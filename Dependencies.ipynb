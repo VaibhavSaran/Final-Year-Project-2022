{
 "cells": [
  {
   "cell_type": "markdown",
   "id": "f683e821-27df-4721-afd7-d7aacbfb7c8c",
   "metadata": {},
   "source": [
    "# INSTALLING PREREQUISITE LIBRARIES"
   ]
  },
  {
   "cell_type": "code",
   "execution_count": 1,
   "id": "8555b1e3-2d5a-4b87-ad3e-baaa2ecf35c8",
   "metadata": {
    "collapsed": true,
    "jupyter": {
     "outputs_hidden": true
    },
    "tags": []
   },
   "outputs": [
    {
     "name": "stdout",
     "output_type": "stream",
     "text": [
      "Collecting opencv-python==4.5.3.56\n",
      "  Using cached opencv_python-4.5.3.56-cp37-cp37m-win_amd64.whl (34.9 MB)\n",
      "Requirement already satisfied: numpy>=1.14.5 in d:\\hand signnature\\hsn_env\\lib\\site-packages (from opencv-python==4.5.3.56) (1.20.3)\n",
      "Installing collected packages: opencv-python\n",
      "Successfully installed opencv-python-4.5.3.56\n"
     ]
    }
   ],
   "source": [
    "!pip install opencv-python==4.5.3.56"
   ]
  },
  {
   "cell_type": "code",
   "execution_count": 4,
   "id": "b2c0fe65-9736-4924-bcee-b982551339ef",
   "metadata": {
    "collapsed": true,
    "jupyter": {
     "outputs_hidden": true
    },
    "tags": []
   },
   "outputs": [
    {
     "name": "stdout",
     "output_type": "stream",
     "text": [
      "Collecting scipy\n",
      "  Using cached scipy-1.7.3-cp37-cp37m-win_amd64.whl (34.1 MB)\n",
      "Requirement already satisfied: numpy<1.23.0,>=1.16.5 in d:\\hand signnature\\hsn_env\\lib\\site-packages (from scipy) (1.21.6)\n",
      "Installing collected packages: scipy\n",
      "Successfully installed scipy-1.7.3\n"
     ]
    },
    {
     "name": "stderr",
     "output_type": "stream",
     "text": [
      "ERROR: pip's dependency resolver does not currently take into account all the packages that are installed. This behaviour is the source of the following dependency conflicts.\n",
      "object-detection 0.1 requires apache-beam, which is not installed.\n",
      "object-detection 0.1 requires avro-python3, which is not installed.\n",
      "object-detection 0.1 requires contextlib2, which is not installed.\n",
      "object-detection 0.1 requires Cython, which is not installed.\n",
      "object-detection 0.1 requires lvis, which is not installed.\n",
      "object-detection 0.1 requires matplotlib, which is not installed.\n",
      "object-detection 0.1 requires pillow, which is not installed.\n",
      "object-detection 0.1 requires pycocotools, which is not installed.\n",
      "tf-models-official 2.8.0 requires Cython, which is not installed.\n",
      "tf-models-official 2.8.0 requires gin-config, which is not installed.\n",
      "tf-models-official 2.8.0 requires google-api-python-client>=1.6.7, which is not installed.\n",
      "tf-models-official 2.8.0 requires kaggle>=1.3.9, which is not installed.\n",
      "tf-models-official 2.8.0 requires matplotlib, which is not installed.\n",
      "tf-models-official 2.8.0 requires oauth2client, which is not installed.\n",
      "tf-models-official 2.8.0 requires opencv-python-headless, which is not installed.\n",
      "tf-models-official 2.8.0 requires Pillow, which is not installed.\n",
      "tf-models-official 2.8.0 requires py-cpuinfo>=3.3.0, which is not installed.\n",
      "tf-models-official 2.8.0 requires pycocotools, which is not installed.\n",
      "tf-models-official 2.8.0 requires sacrebleu, which is not installed.\n",
      "tf-models-official 2.8.0 requires sentencepiece, which is not installed.\n",
      "tf-models-official 2.8.0 requires seqeval, which is not installed.\n",
      "tf-models-official 2.8.0 requires tensorflow-addons, which is not installed.\n",
      "tf-models-official 2.8.0 requires tensorflow-datasets, which is not installed.\n",
      "tf-models-official 2.8.0 requires tensorflow-hub>=0.6.0, which is not installed.\n",
      "tf-models-official 2.8.0 requires tensorflow-model-optimization>=0.4.1, which is not installed.\n",
      "tf-models-official 2.8.0 requires tensorflow-text~=2.8.0, which is not installed.\n",
      "tf-models-official 2.8.0 requires pyyaml<6.0,>=5.1, but you have pyyaml 6.0 which is incompatible.\n"
     ]
    }
   ],
   "source": [
    "!pip install scipy"
   ]
  },
  {
   "cell_type": "code",
   "execution_count": 2,
   "id": "0fbaf157-42c3-46d5-838b-cb845a16ac03",
   "metadata": {
    "tags": []
   },
   "outputs": [
    {
     "name": "stdout",
     "output_type": "stream",
     "text": [
      "Collecting numpy==1.19.5\n",
      "  Using cached numpy-1.19.5-cp37-cp37m-win_amd64.whl (13.2 MB)\n",
      "Installing collected packages: numpy\n",
      "  Attempting uninstall: numpy\n",
      "    Found existing installation: numpy 1.21.6\n",
      "    Uninstalling numpy-1.21.6:\n",
      "      Successfully uninstalled numpy-1.21.6\n",
      "Successfully installed numpy-1.19.5\n"
     ]
    }
   ],
   "source": [
    "!pip install numpy==1.19.5"
   ]
  },
  {
   "cell_type": "code",
   "execution_count": 6,
   "id": "b84bb1fb",
   "metadata": {},
   "outputs": [
    {
     "name": "stdout",
     "output_type": "stream",
     "text": [
      "Requirement already satisfied: sip==6.6.1 in d:\\hand signnature\\hsn_env\\lib\\site-packages (6.6.1)\n",
      "Requirement already satisfied: packaging in d:\\hand signnature\\hsn_env\\lib\\site-packages (from sip==6.6.1) (21.3)\n",
      "Requirement already satisfied: setuptools in d:\\hand signnature\\hsn_env\\lib\\site-packages (from sip==6.6.1) (40.8.0)\n",
      "Requirement already satisfied: ply in d:\\hand signnature\\hsn_env\\lib\\site-packages (from sip==6.6.1) (3.11)\n",
      "Requirement already satisfied: toml in d:\\hand signnature\\hsn_env\\lib\\site-packages (from sip==6.6.1) (0.10.2)\n",
      "Requirement already satisfied: pyparsing!=3.0.5,>=2.0.2 in d:\\hand signnature\\hsn_env\\lib\\site-packages (from packaging->sip==6.6.1) (3.0.8)\n"
     ]
    }
   ],
   "source": [
    "!pip install sip==6.6.1"
   ]
  },
  {
   "cell_type": "code",
   "execution_count": 8,
   "id": "af461a11-d787-4286-aecb-c500cece6dfe",
   "metadata": {
    "tags": []
   },
   "outputs": [
    {
     "name": "stdout",
     "output_type": "stream",
     "text": [
      "Collecting wheel==0.36.2\n",
      "  Using cached wheel-0.36.2-py2.py3-none-any.whl (35 kB)\n",
      "Installing collected packages: wheel\n",
      "Successfully installed wheel-0.36.2\n"
     ]
    }
   ],
   "source": [
    "!pip install wheel==0.36.2"
   ]
  },
  {
   "cell_type": "code",
   "execution_count": 5,
   "id": "b57fd6ab-8fad-46ec-a45b-d39d10658c3f",
   "metadata": {
    "tags": []
   },
   "outputs": [
    {
     "name": "stdout",
     "output_type": "stream",
     "text": [
      "Requirement already satisfied: pandas==1.3.0 in d:\\hand signnature\\hsn_env\\lib\\site-packages (1.3.0)\n",
      "Requirement already satisfied: numpy>=1.17.3 in d:\\hand signnature\\hsn_env\\lib\\site-packages (from pandas==1.3.0) (1.21.6)\n",
      "Requirement already satisfied: python-dateutil>=2.7.3 in d:\\hand signnature\\hsn_env\\lib\\site-packages (from pandas==1.3.0) (2.8.2)\n",
      "Requirement already satisfied: pytz>=2017.3 in d:\\hand signnature\\hsn_env\\lib\\site-packages (from pandas==1.3.0) (2022.1)\n",
      "Requirement already satisfied: six>=1.5 in d:\\hand signnature\\hsn_env\\lib\\site-packages (from python-dateutil>=2.7.3->pandas==1.3.0) (1.16.0)\n"
     ]
    }
   ],
   "source": [
    "!pip install pandas==1.3.0"
   ]
  },
  {
   "cell_type": "code",
   "execution_count": 6,
   "id": "7a8abfc2-5dda-484e-81c4-b2dac87bdec6",
   "metadata": {
    "tags": []
   },
   "outputs": [
    {
     "name": "stdout",
     "output_type": "stream",
     "text": [
      "Requirement already satisfied: uuid==1.30 in d:\\hand signnature\\hsn_env\\lib\\site-packages (1.30)\n"
     ]
    }
   ],
   "source": [
    "!pip install uuid==1.30"
   ]
  },
  {
   "cell_type": "code",
   "execution_count": 7,
   "id": "398ddc7c-19da-493f-b06c-ba9ce67a2438",
   "metadata": {
    "tags": []
   },
   "outputs": [
    {
     "name": "stdout",
     "output_type": "stream",
     "text": [
      "Requirement already satisfied: os-win==5.4.0 in d:\\hand signnature\\hsn_env\\lib\\site-packages (5.4.0)\n",
      "Requirement already satisfied: oslo.concurrency>=3.29.0 in d:\\hand signnature\\hsn_env\\lib\\site-packages (from os-win==5.4.0) (4.5.1)\n",
      "Requirement already satisfied: wmi>=0.5 in d:\\hand signnature\\hsn_env\\lib\\site-packages (from os-win==5.4.0) (1.5.1)\n",
      "Requirement already satisfied: eventlet>=0.22.0 in d:\\hand signnature\\hsn_env\\lib\\site-packages (from os-win==5.4.0) (0.33.0)\n",
      "Requirement already satisfied: oslo.i18n>=3.15.3 in d:\\hand signnature\\hsn_env\\lib\\site-packages (from os-win==5.4.0) (5.1.0)\n",
      "Requirement already satisfied: oslo.log>=3.36.0 in d:\\hand signnature\\hsn_env\\lib\\site-packages (from os-win==5.4.0) (4.8.0)\n",
      "Requirement already satisfied: oslo.config>=6.8.0 in d:\\hand signnature\\hsn_env\\lib\\site-packages (from os-win==5.4.0) (8.8.0)\n",
      "Requirement already satisfied: PyMI>=1.0.0 in d:\\hand signnature\\hsn_env\\lib\\site-packages (from os-win==5.4.0) (1.0.6)\n",
      "Requirement already satisfied: oslo.utils>=4.7.0 in d:\\hand signnature\\hsn_env\\lib\\site-packages (from os-win==5.4.0) (4.13.0)\n",
      "Requirement already satisfied: pbr!=2.1.0,>=2.0.0 in d:\\hand signnature\\hsn_env\\lib\\site-packages (from os-win==5.4.0) (5.9.0)\n",
      "Requirement already satisfied: dnspython>=1.15.0 in d:\\hand signnature\\hsn_env\\lib\\site-packages (from eventlet>=0.22.0->os-win==5.4.0) (2.2.1)\n",
      "Requirement already satisfied: six>=1.10.0 in d:\\hand signnature\\hsn_env\\lib\\site-packages (from eventlet>=0.22.0->os-win==5.4.0) (1.16.0)\n",
      "Requirement already satisfied: greenlet>=0.3 in d:\\hand signnature\\hsn_env\\lib\\site-packages (from eventlet>=0.22.0->os-win==5.4.0) (1.1.2)\n",
      "Requirement already satisfied: fasteners>=0.7.0 in d:\\hand signnature\\hsn_env\\lib\\site-packages (from oslo.concurrency>=3.29.0->os-win==5.4.0) (0.17.3)\n",
      "Requirement already satisfied: rfc3986>=1.2.0 in d:\\hand signnature\\hsn_env\\lib\\site-packages (from oslo.config>=6.8.0->os-win==5.4.0) (2.0.0)\n",
      "Requirement already satisfied: requests>=2.18.0 in d:\\hand signnature\\hsn_env\\lib\\site-packages (from oslo.config>=6.8.0->os-win==5.4.0) (2.27.1)\n",
      "Requirement already satisfied: netaddr>=0.7.18 in d:\\hand signnature\\hsn_env\\lib\\site-packages (from oslo.config>=6.8.0->os-win==5.4.0) (0.8.0)\n",
      "Requirement already satisfied: PyYAML>=5.1 in d:\\hand signnature\\hsn_env\\lib\\site-packages (from oslo.config>=6.8.0->os-win==5.4.0) (6.0)\n",
      "Requirement already satisfied: stevedore>=1.20.0 in d:\\hand signnature\\hsn_env\\lib\\site-packages (from oslo.config>=6.8.0->os-win==5.4.0) (3.5.0)\n",
      "Requirement already satisfied: importlib-metadata>=1.7.0 in d:\\hand signnature\\hsn_env\\lib\\site-packages (from oslo.config>=6.8.0->os-win==5.4.0) (4.11.3)\n",
      "Requirement already satisfied: debtcollector>=1.2.0 in d:\\hand signnature\\hsn_env\\lib\\site-packages (from oslo.config>=6.8.0->os-win==5.4.0) (2.5.0)\n",
      "Requirement already satisfied: oslo.context>=2.21.0 in d:\\hand signnature\\hsn_env\\lib\\site-packages (from oslo.log>=3.36.0->os-win==5.4.0) (4.1.0)\n",
      "Requirement already satisfied: python-dateutil>=2.7.0 in d:\\hand signnature\\hsn_env\\lib\\site-packages (from oslo.log>=3.36.0->os-win==5.4.0) (2.8.2)\n",
      "Requirement already satisfied: oslo.serialization>=2.25.0 in d:\\hand signnature\\hsn_env\\lib\\site-packages (from oslo.log>=3.36.0->os-win==5.4.0) (4.3.0)\n",
      "Requirement already satisfied: packaging>=20.4 in d:\\hand signnature\\hsn_env\\lib\\site-packages (from oslo.utils>=4.7.0->os-win==5.4.0) (21.3)\n",
      "Requirement already satisfied: pytz>=2013.6 in d:\\hand signnature\\hsn_env\\lib\\site-packages (from oslo.utils>=4.7.0->os-win==5.4.0) (2022.1)\n",
      "Requirement already satisfied: netifaces>=0.10.4 in d:\\hand signnature\\hsn_env\\lib\\site-packages (from oslo.utils>=4.7.0->os-win==5.4.0) (0.11.0)\n",
      "Requirement already satisfied: iso8601>=0.1.11 in d:\\hand signnature\\hsn_env\\lib\\site-packages (from oslo.utils>=4.7.0->os-win==5.4.0) (1.0.2)\n",
      "Requirement already satisfied: pyparsing>=2.1.0 in d:\\hand signnature\\hsn_env\\lib\\site-packages (from oslo.utils>=4.7.0->os-win==5.4.0) (3.0.8)\n",
      "Requirement already satisfied: pywin32 in d:\\hand signnature\\hsn_env\\lib\\site-packages (from wmi>=0.5->os-win==5.4.0) (304)\n",
      "Requirement already satisfied: wrapt>=1.7.0 in d:\\hand signnature\\hsn_env\\lib\\site-packages (from debtcollector>=1.2.0->oslo.config>=6.8.0->os-win==5.4.0) (1.14.1)\n",
      "Requirement already satisfied: typing-extensions>=3.6.4 in d:\\hand signnature\\hsn_env\\lib\\site-packages (from importlib-metadata>=1.7.0->oslo.config>=6.8.0->os-win==5.4.0) (4.2.0)\n",
      "Requirement already satisfied: zipp>=0.5 in d:\\hand signnature\\hsn_env\\lib\\site-packages (from importlib-metadata>=1.7.0->oslo.config>=6.8.0->os-win==5.4.0) (3.8.0)\n",
      "Requirement already satisfied: msgpack>=0.5.2 in d:\\hand signnature\\hsn_env\\lib\\site-packages (from oslo.serialization>=2.25.0->oslo.log>=3.36.0->os-win==5.4.0) (1.0.3)\n",
      "Requirement already satisfied: idna<4,>=2.5 in d:\\hand signnature\\hsn_env\\lib\\site-packages (from requests>=2.18.0->oslo.config>=6.8.0->os-win==5.4.0) (3.3)\n",
      "Requirement already satisfied: charset-normalizer~=2.0.0 in d:\\hand signnature\\hsn_env\\lib\\site-packages (from requests>=2.18.0->oslo.config>=6.8.0->os-win==5.4.0) (2.0.12)\n",
      "Requirement already satisfied: urllib3<1.27,>=1.21.1 in d:\\hand signnature\\hsn_env\\lib\\site-packages (from requests>=2.18.0->oslo.config>=6.8.0->os-win==5.4.0) (1.26.9)\n",
      "Requirement already satisfied: certifi>=2017.4.17 in d:\\hand signnature\\hsn_env\\lib\\site-packages (from requests>=2.18.0->oslo.config>=6.8.0->os-win==5.4.0) (2021.10.8)\n"
     ]
    }
   ],
   "source": [
    "!pip install os-win==5.4.0"
   ]
  },
  {
   "cell_type": "code",
   "execution_count": 8,
   "id": "61d3e551-e2b9-4b61-bdd6-01ea1c09389c",
   "metadata": {
    "tags": []
   },
   "outputs": [
    {
     "name": "stdout",
     "output_type": "stream",
     "text": [
      "Requirement already satisfied: pyqt5==5.15.4 in d:\\hand signnature\\hsn_env\\lib\\site-packages (5.15.4)\n",
      "Requirement already satisfied: PyQt5-Qt5>=5.15 in d:\\hand signnature\\hsn_env\\lib\\site-packages (from pyqt5==5.15.4) (5.15.2)\n",
      "Requirement already satisfied: PyQt5-sip<13,>=12.8 in d:\\hand signnature\\hsn_env\\lib\\site-packages (from pyqt5==5.15.4) (12.10.1)\n"
     ]
    }
   ],
   "source": [
    "!pip install pyqt5==5.15.4"
   ]
  },
  {
   "cell_type": "code",
   "execution_count": 9,
   "id": "1818c539-6fe1-4e68-ba98-8a7370b90db9",
   "metadata": {
    "tags": []
   },
   "outputs": [
    {
     "name": "stdout",
     "output_type": "stream",
     "text": [
      "Requirement already satisfied: lxml==4.6.3 in d:\\hand signnature\\hsn_env\\lib\\site-packages (4.6.3)\n"
     ]
    }
   ],
   "source": [
    "!pip install lxml==4.6.3"
   ]
  },
  {
   "cell_type": "code",
   "execution_count": 13,
   "id": "3b9f84fe",
   "metadata": {},
   "outputs": [
    {
     "name": "stdout",
     "output_type": "stream",
     "text": [
      "Collecting libs\n",
      "  Using cached libs-0.0.10-py3-none-any.whl (5.8 kB)\n",
      "Installing collected packages: libs\n",
      "Successfully installed libs-0.0.10\n"
     ]
    }
   ],
   "source": [
    "!py -m pip install libs"
   ]
  },
  {
   "cell_type": "code",
   "execution_count": 3,
   "id": "95a1aa36-87da-496b-a94a-480069329d74",
   "metadata": {
    "tags": []
   },
   "outputs": [
    {
     "name": "stdout",
     "output_type": "stream",
     "text": [
      "Collecting wget==3.2\n",
      "  Using cached wget-3.2-py3-none-any.whl\n",
      "Installing collected packages: wget\n",
      "Successfully installed wget-3.2\n"
     ]
    }
   ],
   "source": [
    "# To use models from Tensorflow model zoo\n",
    "!pip install wget==3.2"
   ]
  },
  {
   "cell_type": "code",
   "execution_count": 12,
   "id": "821f787e-3a52-4dfe-a07e-9b49a082ff94",
   "metadata": {
    "collapsed": true,
    "jupyter": {
     "outputs_hidden": true
    },
    "tags": []
   },
   "outputs": [
    {
     "name": "stdout",
     "output_type": "stream",
     "text": [
      "Collecting opt-einsum==3.3.0\n",
      "  Using cached opt_einsum-3.3.0-py3-none-any.whl (65 kB)\n",
      "Requirement already satisfied: numpy>=1.7 in d:\\final year project\\fypenv\\lib\\site-packages (from opt-einsum==3.3.0) (1.19.5)\n",
      "Installing collected packages: opt-einsum\n",
      "Successfully installed opt-einsum-3.3.0\n"
     ]
    }
   ],
   "source": [
    "!pip install opt-einsum==3.3.0"
   ]
  },
  {
   "cell_type": "code",
   "execution_count": 13,
   "id": "96c06bca-3da4-44b4-8ee8-efdf0da220cd",
   "metadata": {
    "collapsed": true,
    "jupyter": {
     "outputs_hidden": true
    },
    "tags": []
   },
   "outputs": [
    {
     "name": "stdout",
     "output_type": "stream",
     "text": [
      "Collecting gast==0.4.0\n",
      "  Using cached gast-0.4.0-py3-none-any.whl (9.8 kB)\n",
      "Installing collected packages: gast\n",
      "Successfully installed gast-0.4.0\n"
     ]
    }
   ],
   "source": [
    "!pip install gast==0.4.0"
   ]
  },
  {
   "cell_type": "code",
   "execution_count": 14,
   "id": "828d114a-bc5e-44ab-b0f3-dcd5f2562427",
   "metadata": {
    "collapsed": true,
    "jupyter": {
     "outputs_hidden": true
    },
    "tags": []
   },
   "outputs": [
    {
     "name": "stdout",
     "output_type": "stream",
     "text": [
      "Collecting astunparse==1.6.3\n",
      "  Using cached astunparse-1.6.3-py2.py3-none-any.whl (12 kB)\n",
      "Requirement already satisfied: six<2.0,>=1.6.1 in d:\\final year project\\fypenv\\lib\\site-packages (from astunparse==1.6.3) (1.16.0)\n",
      "Requirement already satisfied: wheel<1.0,>=0.23.0 in d:\\final year project\\fypenv\\lib\\site-packages (from astunparse==1.6.3) (0.36.2)\n",
      "Installing collected packages: astunparse\n",
      "Successfully installed astunparse-1.6.3\n"
     ]
    }
   ],
   "source": [
    "!pip install astunparse==1.6.3"
   ]
  },
  {
   "cell_type": "code",
   "execution_count": 15,
   "id": "dcb853cc-1704-47fe-a279-b5b3b79ecf1a",
   "metadata": {
    "collapsed": true,
    "jupyter": {
     "outputs_hidden": true
    },
    "tags": []
   },
   "outputs": [
    {
     "name": "stdout",
     "output_type": "stream",
     "text": [
      "Collecting termcolor==1.1.0\n",
      "  Using cached termcolor-1.1.0-py3-none-any.whl\n",
      "Installing collected packages: termcolor\n",
      "Successfully installed termcolor-1.1.0\n"
     ]
    }
   ],
   "source": [
    "!pip install termcolor==1.1.0"
   ]
  },
  {
   "cell_type": "code",
   "execution_count": 16,
   "id": "2d35e5d6-d485-40f1-8b82-ba6058e5ffac",
   "metadata": {
    "collapsed": true,
    "jupyter": {
     "outputs_hidden": true
    },
    "tags": []
   },
   "outputs": [
    {
     "name": "stdout",
     "output_type": "stream",
     "text": [
      "Collecting Keras-Preprocessing==1.1.2\n",
      "  Using cached Keras_Preprocessing-1.1.2-py2.py3-none-any.whl (42 kB)\n",
      "Requirement already satisfied: numpy>=1.9.1 in d:\\final year project\\fypenv\\lib\\site-packages (from Keras-Preprocessing==1.1.2) (1.19.5)\n",
      "Requirement already satisfied: six>=1.9.0 in d:\\final year project\\fypenv\\lib\\site-packages (from Keras-Preprocessing==1.1.2) (1.16.0)\n",
      "Installing collected packages: Keras-Preprocessing\n",
      "Successfully installed Keras-Preprocessing-1.1.2\n"
     ]
    }
   ],
   "source": [
    "!pip install Keras-Preprocessing==1.1.2"
   ]
  },
  {
   "cell_type": "code",
   "execution_count": 17,
   "id": "3336563e-8569-4fb0-b8ae-7f9d1cc944d9",
   "metadata": {
    "collapsed": true,
    "jupyter": {
     "outputs_hidden": true
    },
    "tags": []
   },
   "outputs": [
    {
     "name": "stdout",
     "output_type": "stream",
     "text": [
      "Collecting flatbuffers==1.12\n",
      "  Using cached flatbuffers-1.12-py2.py3-none-any.whl (15 kB)\n",
      "Installing collected packages: flatbuffers\n",
      "Successfully installed flatbuffers-1.12\n"
     ]
    }
   ],
   "source": [
    "!pip install flatbuffers==1.12"
   ]
  },
  {
   "cell_type": "code",
   "execution_count": 18,
   "id": "1e298a7b-207c-4a8e-9922-3a8abe3e8d9a",
   "metadata": {
    "collapsed": true,
    "jupyter": {
     "outputs_hidden": true
    },
    "tags": []
   },
   "outputs": [
    {
     "name": "stdout",
     "output_type": "stream",
     "text": [
      "Collecting keras==2.4.3\n",
      "  Using cached Keras-2.4.3-py2.py3-none-any.whl (36 kB)\n",
      "Requirement already satisfied: pyyaml in d:\\final year project\\fypenv\\lib\\site-packages (from keras==2.4.3) (5.4.1)\n",
      "Collecting h5py\n",
      "  Downloading h5py-3.4.0-cp37-cp37m-win_amd64.whl (2.7 MB)\n",
      "Requirement already satisfied: numpy>=1.9.1 in d:\\final year project\\fypenv\\lib\\site-packages (from keras==2.4.3) (1.19.5)\n",
      "Collecting scipy>=0.14\n",
      "  Downloading scipy-1.7.1-cp37-cp37m-win_amd64.whl (33.6 MB)\n",
      "Collecting cached-property\n",
      "  Using cached cached_property-1.5.2-py2.py3-none-any.whl (7.6 kB)\n",
      "Installing collected packages: cached-property, scipy, h5py, keras\n",
      "Successfully installed cached-property-1.5.2 h5py-3.4.0 keras-2.4.3 scipy-1.7.1\n"
     ]
    }
   ],
   "source": [
    "!pip install keras==2.4.3"
   ]
  },
  {
   "cell_type": "code",
   "execution_count": 19,
   "id": "aef99182-eff9-43f9-b8ba-bf949baa2aad",
   "metadata": {
    "collapsed": true,
    "jupyter": {
     "outputs_hidden": true
    },
    "tags": []
   },
   "outputs": [
    {
     "name": "stdout",
     "output_type": "stream",
     "text": [
      "Collecting tensorflow==2.5.0\n",
      "  Using cached tensorflow-2.5.0-cp37-cp37m-win_amd64.whl (422.6 MB)\n",
      "Collecting h5py~=3.1.0\n",
      "  Using cached h5py-3.1.0-cp37-cp37m-win_amd64.whl (2.7 MB)\n",
      "Collecting tensorboard~=2.5\n",
      "  Downloading tensorboard-2.6.0-py3-none-any.whl (5.6 MB)\n",
      "Requirement already satisfied: astunparse~=1.6.3 in d:\\final year project\\fypenv\\lib\\site-packages (from tensorflow==2.5.0) (1.6.3)\n",
      "Collecting keras-nightly~=2.5.0.dev\n",
      "  Using cached keras_nightly-2.5.0.dev2021032900-py2.py3-none-any.whl (1.2 MB)\n",
      "Collecting absl-py~=0.10\n",
      "  Downloading absl_py-0.14.0-py3-none-any.whl (131 kB)\n",
      "Collecting six~=1.15.0\n",
      "  Using cached six-1.15.0-py2.py3-none-any.whl (10 kB)\n",
      "Requirement already satisfied: wheel~=0.35 in d:\\final year project\\fypenv\\lib\\site-packages (from tensorflow==2.5.0) (0.36.2)\n",
      "Requirement already satisfied: wrapt~=1.12.1 in d:\\final year project\\fypenv\\lib\\site-packages (from tensorflow==2.5.0) (1.12.1)\n",
      "Requirement already satisfied: keras-preprocessing~=1.1.2 in d:\\final year project\\fypenv\\lib\\site-packages (from tensorflow==2.5.0) (1.1.2)\n",
      "Requirement already satisfied: flatbuffers~=1.12.0 in d:\\final year project\\fypenv\\lib\\site-packages (from tensorflow==2.5.0) (1.12)\n",
      "Collecting tensorflow-estimator<2.6.0,>=2.5.0rc0\n",
      "  Using cached tensorflow_estimator-2.5.0-py2.py3-none-any.whl (462 kB)\n",
      "Collecting google-pasta~=0.2\n",
      "  Using cached google_pasta-0.2.0-py3-none-any.whl (57 kB)\n",
      "Requirement already satisfied: termcolor~=1.1.0 in d:\\final year project\\fypenv\\lib\\site-packages (from tensorflow==2.5.0) (1.1.0)\n",
      "Collecting protobuf>=3.9.2\n",
      "  Downloading protobuf-3.18.0-cp37-cp37m-win_amd64.whl (913 kB)\n",
      "Requirement already satisfied: numpy~=1.19.2 in d:\\final year project\\fypenv\\lib\\site-packages (from tensorflow==2.5.0) (1.19.5)\n",
      "Requirement already satisfied: opt-einsum~=3.3.0 in d:\\final year project\\fypenv\\lib\\site-packages (from tensorflow==2.5.0) (3.3.0)\n",
      "Collecting typing-extensions~=3.7.4\n",
      "  Using cached typing_extensions-3.7.4.3-py3-none-any.whl (22 kB)\n",
      "Requirement already satisfied: gast==0.4.0 in d:\\final year project\\fypenv\\lib\\site-packages (from tensorflow==2.5.0) (0.4.0)\n",
      "Collecting grpcio~=1.34.0\n",
      "  Using cached grpcio-1.34.1-cp37-cp37m-win_amd64.whl (2.9 MB)\n",
      "Requirement already satisfied: cached-property in d:\\final year project\\fypenv\\lib\\site-packages (from h5py~=3.1.0->tensorflow==2.5.0) (1.5.2)\n",
      "Requirement already satisfied: requests<3,>=2.21.0 in d:\\final year project\\fypenv\\lib\\site-packages (from tensorboard~=2.5->tensorflow==2.5.0) (2.26.0)\n",
      "Collecting setuptools>=41.0.0\n",
      "  Downloading setuptools-58.1.0-py3-none-any.whl (816 kB)\n",
      "Collecting google-auth<2,>=1.6.3\n",
      "  Downloading google_auth-1.35.0-py2.py3-none-any.whl (152 kB)\n",
      "Collecting markdown>=2.6.8\n",
      "  Using cached Markdown-3.3.4-py3-none-any.whl (97 kB)\n",
      "Collecting tensorboard-data-server<0.7.0,>=0.6.0\n",
      "  Using cached tensorboard_data_server-0.6.1-py3-none-any.whl (2.4 kB)\n",
      "Collecting werkzeug>=0.11.15\n",
      "  Using cached Werkzeug-2.0.1-py3-none-any.whl (288 kB)\n",
      "Collecting tensorboard-plugin-wit>=1.6.0\n",
      "  Using cached tensorboard_plugin_wit-1.8.0-py3-none-any.whl (781 kB)\n",
      "Collecting google-auth-oauthlib<0.5,>=0.4.1\n",
      "  Downloading google_auth_oauthlib-0.4.6-py2.py3-none-any.whl (18 kB)\n",
      "Collecting rsa<5,>=3.1.4\n",
      "  Using cached rsa-4.7.2-py3-none-any.whl (34 kB)\n",
      "Collecting cachetools<5.0,>=2.0.0\n",
      "  Using cached cachetools-4.2.2-py3-none-any.whl (11 kB)\n",
      "Collecting pyasn1-modules>=0.2.1\n",
      "  Using cached pyasn1_modules-0.2.8-py2.py3-none-any.whl (155 kB)\n",
      "Collecting requests-oauthlib>=0.7.0\n",
      "  Using cached requests_oauthlib-1.3.0-py2.py3-none-any.whl (23 kB)\n",
      "Requirement already satisfied: importlib-metadata in d:\\final year project\\fypenv\\lib\\site-packages (from markdown>=2.6.8->tensorboard~=2.5->tensorflow==2.5.0) (4.8.1)\n",
      "Collecting pyasn1<0.5.0,>=0.4.6\n",
      "  Using cached pyasn1-0.4.8-py2.py3-none-any.whl (77 kB)\n",
      "Requirement already satisfied: urllib3<1.27,>=1.21.1 in d:\\final year project\\fypenv\\lib\\site-packages (from requests<3,>=2.21.0->tensorboard~=2.5->tensorflow==2.5.0) (1.26.7)\n",
      "Requirement already satisfied: idna<4,>=2.5 in d:\\final year project\\fypenv\\lib\\site-packages (from requests<3,>=2.21.0->tensorboard~=2.5->tensorflow==2.5.0) (3.2)\n",
      "Requirement already satisfied: charset-normalizer~=2.0.0 in d:\\final year project\\fypenv\\lib\\site-packages (from requests<3,>=2.21.0->tensorboard~=2.5->tensorflow==2.5.0) (2.0.6)\n",
      "Requirement already satisfied: certifi>=2017.4.17 in d:\\final year project\\fypenv\\lib\\site-packages (from requests<3,>=2.21.0->tensorboard~=2.5->tensorflow==2.5.0) (2021.5.30)\n",
      "Collecting oauthlib>=3.0.0\n",
      "  Using cached oauthlib-3.1.1-py2.py3-none-any.whl (146 kB)\n",
      "Requirement already satisfied: zipp>=0.5 in d:\\final year project\\fypenv\\lib\\site-packages (from importlib-metadata->markdown>=2.6.8->tensorboard~=2.5->tensorflow==2.5.0) (3.5.0)\n",
      "Installing collected packages: pyasn1, typing-extensions, six, setuptools, rsa, pyasn1-modules, oauthlib, cachetools, requests-oauthlib, google-auth, werkzeug, tensorboard-plugin-wit, tensorboard-data-server, protobuf, markdown, grpcio, google-auth-oauthlib, absl-py, tensorflow-estimator, tensorboard, keras-nightly, h5py, google-pasta, tensorflow\n",
      "  Attempting uninstall: typing-extensions\n",
      "    Found existing installation: typing-extensions 3.10.0.2\n",
      "    Uninstalling typing-extensions-3.10.0.2:\n",
      "      Successfully uninstalled typing-extensions-3.10.0.2\n",
      "  Attempting uninstall: six\n",
      "    Found existing installation: six 1.16.0\n",
      "    Uninstalling six-1.16.0:\n",
      "      Successfully uninstalled six-1.16.0\n",
      "  Attempting uninstall: setuptools\n",
      "    Found existing installation: setuptools 40.8.0\n",
      "    Uninstalling setuptools-40.8.0:\n",
      "      Successfully uninstalled setuptools-40.8.0\n",
      "  Attempting uninstall: h5py\n",
      "    Found existing installation: h5py 3.4.0\n",
      "    Uninstalling h5py-3.4.0:\n",
      "      Successfully uninstalled h5py-3.4.0\n",
      "Successfully installed absl-py-0.14.0 cachetools-4.2.2 google-auth-1.35.0 google-auth-oauthlib-0.4.6 google-pasta-0.2.0 grpcio-1.34.1 h5py-3.1.0 keras-nightly-2.5.0.dev2021032900 markdown-3.3.4 oauthlib-3.1.1 protobuf-3.18.0 pyasn1-0.4.8 pyasn1-modules-0.2.8 requests-oauthlib-1.3.0 rsa-4.7.2 setuptools-58.1.0 six-1.15.0 tensorboard-2.6.0 tensorboard-data-server-0.6.1 tensorboard-plugin-wit-1.8.0 tensorflow-2.5.0 tensorflow-estimator-2.5.0 typing-extensions-3.7.4.3 werkzeug-2.0.1\n"
     ]
    }
   ],
   "source": [
    "!pip install tensorflow==2.5.0"
   ]
  },
  {
   "cell_type": "code",
   "execution_count": 30,
   "id": "9d88fe50-26fe-466f-bdbb-e9145c07f014",
   "metadata": {
    "collapsed": true,
    "jupyter": {
     "outputs_hidden": true
    },
    "tags": []
   },
   "outputs": [
    {
     "name": "stdout",
     "output_type": "stream",
     "text": [
      "Collecting tensorflow-gpu==2.5.0\n",
      "  Using cached tensorflow_gpu-2.5.0-cp37-cp37m-win_amd64.whl (422.6 MB)\n",
      "Requirement already satisfied: flatbuffers~=1.12.0 in d:\\final year project\\fypenv\\lib\\site-packages (from tensorflow-gpu==2.5.0) (1.12)\n",
      "Requirement already satisfied: h5py~=3.1.0 in d:\\final year project\\fypenv\\lib\\site-packages (from tensorflow-gpu==2.5.0) (3.1.0)\n",
      "Requirement already satisfied: protobuf>=3.9.2 in d:\\final year project\\fypenv\\lib\\site-packages (from tensorflow-gpu==2.5.0) (3.18.0)\n",
      "Requirement already satisfied: numpy~=1.19.2 in d:\\final year project\\fypenv\\lib\\site-packages (from tensorflow-gpu==2.5.0) (1.19.5)\n",
      "Requirement already satisfied: tensorboard~=2.5 in d:\\final year project\\fypenv\\lib\\site-packages (from tensorflow-gpu==2.5.0) (2.6.0)\n",
      "Requirement already satisfied: astunparse~=1.6.3 in d:\\final year project\\fypenv\\lib\\site-packages (from tensorflow-gpu==2.5.0) (1.6.3)\n",
      "Requirement already satisfied: gast==0.4.0 in d:\\final year project\\fypenv\\lib\\site-packages (from tensorflow-gpu==2.5.0) (0.4.0)\n",
      "Requirement already satisfied: termcolor~=1.1.0 in d:\\final year project\\fypenv\\lib\\site-packages (from tensorflow-gpu==2.5.0) (1.1.0)\n",
      "Requirement already satisfied: absl-py~=0.10 in d:\\final year project\\fypenv\\lib\\site-packages (from tensorflow-gpu==2.5.0) (0.14.0)\n",
      "Requirement already satisfied: six~=1.15.0 in d:\\final year project\\fypenv\\lib\\site-packages (from tensorflow-gpu==2.5.0) (1.15.0)\n",
      "Requirement already satisfied: google-pasta~=0.2 in d:\\final year project\\fypenv\\lib\\site-packages (from tensorflow-gpu==2.5.0) (0.2.0)\n",
      "Requirement already satisfied: grpcio~=1.34.0 in d:\\final year project\\fypenv\\lib\\site-packages (from tensorflow-gpu==2.5.0) (1.34.1)\n",
      "Requirement already satisfied: tensorflow-estimator<2.6.0,>=2.5.0rc0 in d:\\final year project\\fypenv\\lib\\site-packages (from tensorflow-gpu==2.5.0) (2.5.0)\n",
      "Requirement already satisfied: wheel~=0.35 in d:\\final year project\\fypenv\\lib\\site-packages (from tensorflow-gpu==2.5.0) (0.36.2)\n",
      "Requirement already satisfied: opt-einsum~=3.3.0 in d:\\final year project\\fypenv\\lib\\site-packages (from tensorflow-gpu==2.5.0) (3.3.0)\n",
      "Requirement already satisfied: keras-preprocessing~=1.1.2 in d:\\final year project\\fypenv\\lib\\site-packages (from tensorflow-gpu==2.5.0) (1.1.2)\n",
      "Requirement already satisfied: keras-nightly~=2.5.0.dev in d:\\final year project\\fypenv\\lib\\site-packages (from tensorflow-gpu==2.5.0) (2.5.0.dev2021032900)\n",
      "Requirement already satisfied: wrapt~=1.12.1 in d:\\final year project\\fypenv\\lib\\site-packages (from tensorflow-gpu==2.5.0) (1.12.1)\n",
      "Requirement already satisfied: typing-extensions~=3.7.4 in d:\\final year project\\fypenv\\lib\\site-packages (from tensorflow-gpu==2.5.0) (3.7.4.3)\n",
      "Requirement already satisfied: cached-property in d:\\final year project\\fypenv\\lib\\site-packages (from h5py~=3.1.0->tensorflow-gpu==2.5.0) (1.5.2)\n",
      "Requirement already satisfied: setuptools>=41.0.0 in d:\\final year project\\fypenv\\lib\\site-packages (from tensorboard~=2.5->tensorflow-gpu==2.5.0) (58.1.0)\n",
      "Requirement already satisfied: markdown>=2.6.8 in d:\\final year project\\fypenv\\lib\\site-packages (from tensorboard~=2.5->tensorflow-gpu==2.5.0) (3.3.4)\n",
      "Requirement already satisfied: google-auth-oauthlib<0.5,>=0.4.1 in d:\\final year project\\fypenv\\lib\\site-packages (from tensorboard~=2.5->tensorflow-gpu==2.5.0) (0.4.6)\n",
      "Requirement already satisfied: tensorboard-plugin-wit>=1.6.0 in d:\\final year project\\fypenv\\lib\\site-packages (from tensorboard~=2.5->tensorflow-gpu==2.5.0) (1.8.0)\n",
      "Requirement already satisfied: tensorboard-data-server<0.7.0,>=0.6.0 in d:\\final year project\\fypenv\\lib\\site-packages (from tensorboard~=2.5->tensorflow-gpu==2.5.0) (0.6.1)\n",
      "Requirement already satisfied: werkzeug>=0.11.15 in d:\\final year project\\fypenv\\lib\\site-packages (from tensorboard~=2.5->tensorflow-gpu==2.5.0) (2.0.1)\n",
      "Requirement already satisfied: requests<3,>=2.21.0 in d:\\final year project\\fypenv\\lib\\site-packages (from tensorboard~=2.5->tensorflow-gpu==2.5.0) (2.26.0)\n",
      "Requirement already satisfied: google-auth<2,>=1.6.3 in d:\\final year project\\fypenv\\lib\\site-packages (from tensorboard~=2.5->tensorflow-gpu==2.5.0) (1.35.0)\n",
      "Requirement already satisfied: cachetools<5.0,>=2.0.0 in d:\\final year project\\fypenv\\lib\\site-packages (from google-auth<2,>=1.6.3->tensorboard~=2.5->tensorflow-gpu==2.5.0) (4.2.2)\n",
      "Requirement already satisfied: pyasn1-modules>=0.2.1 in d:\\final year project\\fypenv\\lib\\site-packages (from google-auth<2,>=1.6.3->tensorboard~=2.5->tensorflow-gpu==2.5.0) (0.2.8)\n",
      "Requirement already satisfied: rsa<5,>=3.1.4 in d:\\final year project\\fypenv\\lib\\site-packages (from google-auth<2,>=1.6.3->tensorboard~=2.5->tensorflow-gpu==2.5.0) (4.7.2)\n",
      "Requirement already satisfied: requests-oauthlib>=0.7.0 in d:\\final year project\\fypenv\\lib\\site-packages (from google-auth-oauthlib<0.5,>=0.4.1->tensorboard~=2.5->tensorflow-gpu==2.5.0) (1.3.0)\n",
      "Requirement already satisfied: importlib-metadata in d:\\final year project\\fypenv\\lib\\site-packages (from markdown>=2.6.8->tensorboard~=2.5->tensorflow-gpu==2.5.0) (4.8.1)\n",
      "Requirement already satisfied: pyasn1<0.5.0,>=0.4.6 in d:\\final year project\\fypenv\\lib\\site-packages (from pyasn1-modules>=0.2.1->google-auth<2,>=1.6.3->tensorboard~=2.5->tensorflow-gpu==2.5.0) (0.4.8)\n",
      "Requirement already satisfied: idna<4,>=2.5 in d:\\final year project\\fypenv\\lib\\site-packages (from requests<3,>=2.21.0->tensorboard~=2.5->tensorflow-gpu==2.5.0) (3.2)\n",
      "Requirement already satisfied: certifi>=2017.4.17 in d:\\final year project\\fypenv\\lib\\site-packages (from requests<3,>=2.21.0->tensorboard~=2.5->tensorflow-gpu==2.5.0) (2021.5.30)\n",
      "Requirement already satisfied: urllib3<1.27,>=1.21.1 in d:\\final year project\\fypenv\\lib\\site-packages (from requests<3,>=2.21.0->tensorboard~=2.5->tensorflow-gpu==2.5.0) (1.26.7)\n",
      "Requirement already satisfied: charset-normalizer~=2.0.0 in d:\\final year project\\fypenv\\lib\\site-packages (from requests<3,>=2.21.0->tensorboard~=2.5->tensorflow-gpu==2.5.0) (2.0.6)\n",
      "Requirement already satisfied: oauthlib>=3.0.0 in d:\\final year project\\fypenv\\lib\\site-packages (from requests-oauthlib>=0.7.0->google-auth-oauthlib<0.5,>=0.4.1->tensorboard~=2.5->tensorflow-gpu==2.5.0) (3.1.1)\n",
      "Requirement already satisfied: zipp>=0.5 in d:\\final year project\\fypenv\\lib\\site-packages (from importlib-metadata->markdown>=2.6.8->tensorboard~=2.5->tensorflow-gpu==2.5.0) (3.5.0)\n",
      "Installing collected packages: tensorflow-gpu\n",
      "Successfully installed tensorflow-gpu-2.5.0\n"
     ]
    }
   ],
   "source": [
    "!pip install tensorflow-gpu==2.5.0"
   ]
  },
  {
   "cell_type": "code",
   "execution_count": 10,
   "id": "be819e62-673c-421a-a705-a30773c182b5",
   "metadata": {
    "tags": []
   },
   "outputs": [
    {
     "name": "stdout",
     "output_type": "stream",
     "text": [
      "Collecting Pillow==8.3.1\n",
      "  Using cached Pillow-8.3.1-1-cp37-cp37m-win_amd64.whl (3.2 MB)\n",
      "Installing collected packages: Pillow\n",
      "Successfully installed Pillow-8.3.1\n"
     ]
    },
    {
     "name": "stderr",
     "output_type": "stream",
     "text": [
      "ERROR: pip's dependency resolver does not currently take into account all the packages that are installed. This behaviour is the source of the following dependency conflicts.\n",
      "object-detection 0.1 requires apache-beam, which is not installed.\n",
      "object-detection 0.1 requires avro-python3, which is not installed.\n",
      "object-detection 0.1 requires contextlib2, which is not installed.\n",
      "object-detection 0.1 requires Cython, which is not installed.\n",
      "object-detection 0.1 requires lvis, which is not installed.\n",
      "object-detection 0.1 requires pycocotools, which is not installed.\n",
      "tf-models-official 2.8.0 requires Cython, which is not installed.\n",
      "tf-models-official 2.8.0 requires gin-config, which is not installed.\n",
      "tf-models-official 2.8.0 requires google-api-python-client>=1.6.7, which is not installed.\n",
      "tf-models-official 2.8.0 requires kaggle>=1.3.9, which is not installed.\n",
      "tf-models-official 2.8.0 requires oauth2client, which is not installed.\n",
      "tf-models-official 2.8.0 requires opencv-python-headless, which is not installed.\n",
      "tf-models-official 2.8.0 requires py-cpuinfo>=3.3.0, which is not installed.\n",
      "tf-models-official 2.8.0 requires pycocotools, which is not installed.\n",
      "tf-models-official 2.8.0 requires sacrebleu, which is not installed.\n",
      "tf-models-official 2.8.0 requires sentencepiece, which is not installed.\n",
      "tf-models-official 2.8.0 requires seqeval, which is not installed.\n",
      "tf-models-official 2.8.0 requires tensorflow-addons, which is not installed.\n",
      "tf-models-official 2.8.0 requires tensorflow-datasets, which is not installed.\n",
      "tf-models-official 2.8.0 requires tensorflow-hub>=0.6.0, which is not installed.\n",
      "tf-models-official 2.8.0 requires tensorflow-model-optimization>=0.4.1, which is not installed.\n",
      "tf-models-official 2.8.0 requires tensorflow-text~=2.8.0, which is not installed.\n",
      "tf-models-official 2.8.0 requires pyyaml<6.0,>=5.1, but you have pyyaml 6.0 which is incompatible.\n"
     ]
    }
   ],
   "source": [
    "!pip install Pillow==8.3.1"
   ]
  },
  {
   "cell_type": "code",
   "execution_count": 21,
   "id": "227d32d4-568a-4e19-b135-259b6d99a769",
   "metadata": {
    "collapsed": true,
    "jupyter": {
     "outputs_hidden": true
    },
    "tags": []
   },
   "outputs": [
    {
     "name": "stdout",
     "output_type": "stream",
     "text": [
      "Collecting protobuf==3.17.3\n",
      "  Using cached protobuf-3.17.3-cp37-cp37m-win_amd64.whl (909 kB)\n",
      "Requirement already satisfied: six>=1.9 in d:\\final year project\\fypenv\\lib\\site-packages (from protobuf==3.17.3) (1.15.0)\n",
      "Installing collected packages: protobuf\n",
      "  Attempting uninstall: protobuf\n",
      "    Found existing installation: protobuf 3.18.0\n",
      "    Uninstalling protobuf-3.18.0:\n",
      "      Successfully uninstalled protobuf-3.18.0\n",
      "Successfully installed protobuf-3.17.3\n"
     ]
    }
   ],
   "source": [
    "!pip install protobuf==3.17.3"
   ]
  },
  {
   "cell_type": "code",
   "execution_count": 22,
   "id": "4e80bc80-1729-4a73-a4c4-c2e9669c3db6",
   "metadata": {
    "collapsed": true,
    "jupyter": {
     "outputs_hidden": true
    },
    "tags": []
   },
   "outputs": [
    {
     "name": "stdout",
     "output_type": "stream",
     "text": [
      "Found existing installation: protobuf 3.17.3\n",
      "Uninstalling protobuf-3.17.3:\n",
      "  Successfully uninstalled protobuf-3.17.3\n"
     ]
    },
    {
     "name": "stderr",
     "output_type": "stream",
     "text": [
      "WARNING: Skipping matplotlib as it is not installed.\n"
     ]
    }
   ],
   "source": [
    "!pip uninstall protobuf matplotlib -y"
   ]
  },
  {
   "cell_type": "code",
   "execution_count": 23,
   "id": "d5c091a2-14a8-4cfc-b3a8-88db6c57e40b",
   "metadata": {
    "collapsed": true,
    "jupyter": {
     "outputs_hidden": true
    },
    "tags": []
   },
   "outputs": [
    {
     "name": "stdout",
     "output_type": "stream",
     "text": [
      "Collecting protobuf\n",
      "  Using cached protobuf-3.18.0-cp37-cp37m-win_amd64.whl (913 kB)\n",
      "Collecting matplotlib==3.2\n",
      "  Using cached matplotlib-3.2.0-cp37-cp37m-win_amd64.whl (9.2 MB)\n",
      "Requirement already satisfied: numpy>=1.11 in d:\\final year project\\fypenv\\lib\\site-packages (from matplotlib==3.2) (1.19.5)\n",
      "Requirement already satisfied: python-dateutil>=2.1 in d:\\final year project\\fypenv\\lib\\site-packages (from matplotlib==3.2) (2.8.2)\n",
      "Collecting cycler>=0.10\n",
      "  Using cached cycler-0.10.0-py2.py3-none-any.whl (6.5 kB)\n",
      "Requirement already satisfied: pyparsing!=2.0.4,!=2.1.2,!=2.1.6,>=2.0.1 in d:\\final year project\\fypenv\\lib\\site-packages (from matplotlib==3.2) (2.4.7)\n",
      "Collecting kiwisolver>=1.0.1\n",
      "  Downloading kiwisolver-1.3.2-cp37-cp37m-win_amd64.whl (51 kB)\n",
      "Requirement already satisfied: six in d:\\final year project\\fypenv\\lib\\site-packages (from cycler>=0.10->matplotlib==3.2) (1.15.0)\n",
      "Installing collected packages: kiwisolver, cycler, protobuf, matplotlib\n",
      "Successfully installed cycler-0.10.0 kiwisolver-1.3.2 matplotlib-3.2.0 protobuf-3.18.0\n"
     ]
    }
   ],
   "source": [
    "!pip install protobuf matplotlib==3.2"
   ]
  },
  {
   "cell_type": "code",
   "execution_count": 11,
   "id": "4f0dd277-f6ff-420f-9d9e-df82ca51e22c",
   "metadata": {
    "tags": []
   },
   "outputs": [
    {
     "name": "stdout",
     "output_type": "stream",
     "text": [
      "Collecting pyyaml==5.4.1\n",
      "  Using cached PyYAML-5.4.1-cp37-cp37m-win_amd64.whl (210 kB)\n",
      "Installing collected packages: pyyaml\n",
      "  Attempting uninstall: pyyaml\n",
      "    Found existing installation: PyYAML 6.0\n",
      "    Uninstalling PyYAML-6.0:\n",
      "      Successfully uninstalled PyYAML-6.0\n",
      "Successfully installed pyyaml-5.4.1\n"
     ]
    },
    {
     "name": "stderr",
     "output_type": "stream",
     "text": [
      "ERROR: pip's dependency resolver does not currently take into account all the packages that are installed. This behaviour is the source of the following dependency conflicts.\n",
      "tf-models-official 2.8.0 requires Cython, which is not installed.\n",
      "tf-models-official 2.8.0 requires gin-config, which is not installed.\n",
      "tf-models-official 2.8.0 requires google-api-python-client>=1.6.7, which is not installed.\n",
      "tf-models-official 2.8.0 requires kaggle>=1.3.9, which is not installed.\n",
      "tf-models-official 2.8.0 requires oauth2client, which is not installed.\n",
      "tf-models-official 2.8.0 requires opencv-python-headless, which is not installed.\n",
      "tf-models-official 2.8.0 requires py-cpuinfo>=3.3.0, which is not installed.\n",
      "tf-models-official 2.8.0 requires pycocotools, which is not installed.\n",
      "tf-models-official 2.8.0 requires sacrebleu, which is not installed.\n",
      "tf-models-official 2.8.0 requires sentencepiece, which is not installed.\n",
      "tf-models-official 2.8.0 requires seqeval, which is not installed.\n",
      "tf-models-official 2.8.0 requires tensorflow-addons, which is not installed.\n",
      "tf-models-official 2.8.0 requires tensorflow-datasets, which is not installed.\n",
      "tf-models-official 2.8.0 requires tensorflow-hub>=0.6.0, which is not installed.\n",
      "tf-models-official 2.8.0 requires tensorflow-model-optimization>=0.4.1, which is not installed.\n",
      "tf-models-official 2.8.0 requires tensorflow-text~=2.8.0, which is not installed.\n"
     ]
    }
   ],
   "source": [
    "!pip install pyyaml==5.4.1"
   ]
  },
  {
   "cell_type": "code",
   "execution_count": 12,
   "id": "03a60502-3e68-4d2d-b114-1fa32de91380",
   "metadata": {
    "tags": []
   },
   "outputs": [
    {
     "name": "stdout",
     "output_type": "stream",
     "text": [
      "Collecting pytz==2021.1\n",
      "  Using cached pytz-2021.1-py2.py3-none-any.whl (510 kB)\n",
      "Installing collected packages: pytz\n",
      "  Attempting uninstall: pytz\n",
      "    Found existing installation: pytz 2022.1\n",
      "    Uninstalling pytz-2022.1:\n",
      "      Successfully uninstalled pytz-2022.1\n",
      "Successfully installed pytz-2021.1\n"
     ]
    },
    {
     "name": "stderr",
     "output_type": "stream",
     "text": [
      "ERROR: pip's dependency resolver does not currently take into account all the packages that are installed. This behaviour is the source of the following dependency conflicts.\n",
      "object-detection 0.1 requires apache-beam, which is not installed.\n",
      "object-detection 0.1 requires avro-python3, which is not installed.\n",
      "object-detection 0.1 requires contextlib2, which is not installed.\n",
      "object-detection 0.1 requires Cython, which is not installed.\n",
      "object-detection 0.1 requires lvis, which is not installed.\n",
      "object-detection 0.1 requires pycocotools, which is not installed.\n",
      "tf-models-official 2.8.0 requires Cython, which is not installed.\n",
      "tf-models-official 2.8.0 requires gin-config, which is not installed.\n",
      "tf-models-official 2.8.0 requires google-api-python-client>=1.6.7, which is not installed.\n",
      "tf-models-official 2.8.0 requires kaggle>=1.3.9, which is not installed.\n",
      "tf-models-official 2.8.0 requires oauth2client, which is not installed.\n",
      "tf-models-official 2.8.0 requires opencv-python-headless, which is not installed.\n",
      "tf-models-official 2.8.0 requires py-cpuinfo>=3.3.0, which is not installed.\n",
      "tf-models-official 2.8.0 requires pycocotools, which is not installed.\n",
      "tf-models-official 2.8.0 requires sacrebleu, which is not installed.\n",
      "tf-models-official 2.8.0 requires sentencepiece, which is not installed.\n",
      "tf-models-official 2.8.0 requires seqeval, which is not installed.\n",
      "tf-models-official 2.8.0 requires tensorflow-addons, which is not installed.\n",
      "tf-models-official 2.8.0 requires tensorflow-datasets, which is not installed.\n",
      "tf-models-official 2.8.0 requires tensorflow-hub>=0.6.0, which is not installed.\n",
      "tf-models-official 2.8.0 requires tensorflow-model-optimization>=0.4.1, which is not installed.\n",
      "tf-models-official 2.8.0 requires tensorflow-text~=2.8.0, which is not installed.\n"
     ]
    }
   ],
   "source": [
    "!pip install pytz==2021.1"
   ]
  },
  {
   "cell_type": "code",
   "execution_count": 13,
   "id": "5f95b82b-ae32-4ad6-b013-f3b3754b68f2",
   "metadata": {
    "tags": []
   },
   "outputs": [
    {
     "name": "stderr",
     "output_type": "stream",
     "text": [
      "WARNING: Skipping pycocotools as it is not installed.\n"
     ]
    },
    {
     "name": "stdout",
     "output_type": "stream",
     "text": [
      "Collecting pycocotools==2.0.2\n",
      "  Using cached pycocotools-2.0.2-cp37-cp37m-win_amd64.whl\n",
      "Requirement already satisfied: matplotlib>=2.1.0 in d:\\hand signnature\\hsn_env\\lib\\site-packages (from pycocotools==2.0.2) (3.2.0)\n",
      "Collecting cython>=0.27.3\n",
      "  Using cached Cython-0.29.28-py2.py3-none-any.whl (983 kB)\n",
      "Requirement already satisfied: setuptools>=18.0 in d:\\hand signnature\\hsn_env\\lib\\site-packages (from pycocotools==2.0.2) (62.1.0)\n",
      "Requirement already satisfied: cycler>=0.10 in d:\\hand signnature\\hsn_env\\lib\\site-packages (from matplotlib>=2.1.0->pycocotools==2.0.2) (0.11.0)\n",
      "Requirement already satisfied: python-dateutil>=2.1 in d:\\hand signnature\\hsn_env\\lib\\site-packages (from matplotlib>=2.1.0->pycocotools==2.0.2) (2.8.2)\n",
      "Requirement already satisfied: kiwisolver>=1.0.1 in d:\\hand signnature\\hsn_env\\lib\\site-packages (from matplotlib>=2.1.0->pycocotools==2.0.2) (1.4.2)\n",
      "Requirement already satisfied: numpy>=1.11 in d:\\hand signnature\\hsn_env\\lib\\site-packages (from matplotlib>=2.1.0->pycocotools==2.0.2) (1.21.6)\n",
      "Requirement already satisfied: pyparsing!=2.0.4,!=2.1.2,!=2.1.6,>=2.0.1 in d:\\hand signnature\\hsn_env\\lib\\site-packages (from matplotlib>=2.1.0->pycocotools==2.0.2) (3.0.8)\n",
      "Requirement already satisfied: typing-extensions in d:\\hand signnature\\hsn_env\\lib\\site-packages (from kiwisolver>=1.0.1->matplotlib>=2.1.0->pycocotools==2.0.2) (4.2.0)\n",
      "Requirement already satisfied: six>=1.5 in d:\\hand signnature\\hsn_env\\lib\\site-packages (from python-dateutil>=2.1->matplotlib>=2.1.0->pycocotools==2.0.2) (1.16.0)\n",
      "Installing collected packages: cython, pycocotools\n",
      "Successfully installed cython-0.29.28 pycocotools-2.0.2\n"
     ]
    },
    {
     "name": "stderr",
     "output_type": "stream",
     "text": [
      "ERROR: pip's dependency resolver does not currently take into account all the packages that are installed. This behaviour is the source of the following dependency conflicts.\n",
      "object-detection 0.1 requires apache-beam, which is not installed.\n",
      "object-detection 0.1 requires avro-python3, which is not installed.\n",
      "object-detection 0.1 requires contextlib2, which is not installed.\n",
      "object-detection 0.1 requires lvis, which is not installed.\n",
      "tf-models-official 2.8.0 requires gin-config, which is not installed.\n",
      "tf-models-official 2.8.0 requires google-api-python-client>=1.6.7, which is not installed.\n",
      "tf-models-official 2.8.0 requires kaggle>=1.3.9, which is not installed.\n",
      "tf-models-official 2.8.0 requires oauth2client, which is not installed.\n",
      "tf-models-official 2.8.0 requires opencv-python-headless, which is not installed.\n",
      "tf-models-official 2.8.0 requires py-cpuinfo>=3.3.0, which is not installed.\n",
      "tf-models-official 2.8.0 requires sacrebleu, which is not installed.\n",
      "tf-models-official 2.8.0 requires sentencepiece, which is not installed.\n",
      "tf-models-official 2.8.0 requires seqeval, which is not installed.\n",
      "tf-models-official 2.8.0 requires tensorflow-addons, which is not installed.\n",
      "tf-models-official 2.8.0 requires tensorflow-datasets, which is not installed.\n",
      "tf-models-official 2.8.0 requires tensorflow-hub>=0.6.0, which is not installed.\n",
      "tf-models-official 2.8.0 requires tensorflow-model-optimization>=0.4.1, which is not installed.\n",
      "tf-models-official 2.8.0 requires tensorflow-text~=2.8.0, which is not installed.\n"
     ]
    }
   ],
   "source": [
    "!pip uninstall pycocotools -y\n",
    "!pip install pycocotools==2.0.2"
   ]
  },
  {
   "cell_type": "code",
   "execution_count": 14,
   "id": "e557d8a1-b14f-4064-8cdd-15eeb154359e",
   "metadata": {
    "tags": []
   },
   "outputs": [
    {
     "name": "stdout",
     "output_type": "stream",
     "text": [
      "Collecting typeguard==2.12.1\n",
      "  Using cached typeguard-2.12.1-py3-none-any.whl (17 kB)\n",
      "Installing collected packages: typeguard\n",
      "Successfully installed typeguard-2.12.1\n"
     ]
    }
   ],
   "source": [
    "!pip install typeguard==2.12.1"
   ]
  },
  {
   "cell_type": "code",
   "execution_count": 15,
   "id": "f3fb3470-d20b-408f-bd47-9048a75cf8a1",
   "metadata": {
    "tags": []
   },
   "outputs": [
    {
     "name": "stdout",
     "output_type": "stream",
     "text": [
      "Collecting gin-config==0.1.1\n",
      "  Using cached gin_config-0.1.1-py3-none-any.whl\n",
      "Requirement already satisfied: six>=1.10.0 in d:\\hand signnature\\hsn_env\\lib\\site-packages (from gin-config==0.1.1) (1.16.0)\n",
      "Installing collected packages: gin-config\n",
      "Successfully installed gin-config-0.1.1\n"
     ]
    },
    {
     "name": "stderr",
     "output_type": "stream",
     "text": [
      "ERROR: pip's dependency resolver does not currently take into account all the packages that are installed. This behaviour is the source of the following dependency conflicts.\n",
      "tf-models-official 2.8.0 requires google-api-python-client>=1.6.7, which is not installed.\n",
      "tf-models-official 2.8.0 requires kaggle>=1.3.9, which is not installed.\n",
      "tf-models-official 2.8.0 requires oauth2client, which is not installed.\n",
      "tf-models-official 2.8.0 requires opencv-python-headless, which is not installed.\n",
      "tf-models-official 2.8.0 requires py-cpuinfo>=3.3.0, which is not installed.\n",
      "tf-models-official 2.8.0 requires sacrebleu, which is not installed.\n",
      "tf-models-official 2.8.0 requires sentencepiece, which is not installed.\n",
      "tf-models-official 2.8.0 requires seqeval, which is not installed.\n",
      "tf-models-official 2.8.0 requires tensorflow-addons, which is not installed.\n",
      "tf-models-official 2.8.0 requires tensorflow-datasets, which is not installed.\n",
      "tf-models-official 2.8.0 requires tensorflow-hub>=0.6.0, which is not installed.\n",
      "tf-models-official 2.8.0 requires tensorflow-model-optimization>=0.4.1, which is not installed.\n",
      "tf-models-official 2.8.0 requires tensorflow-text~=2.8.0, which is not installed.\n"
     ]
    }
   ],
   "source": [
    "!pip install gin-config==0.1.1"
   ]
  },
  {
   "cell_type": "code",
   "execution_count": 16,
   "id": "aea7f2a3-df4c-4c4f-878d-51694343f135",
   "metadata": {
    "tags": []
   },
   "outputs": [
    {
     "name": "stdout",
     "output_type": "stream",
     "text": [
      "Requirement already satisfied: tf-models-official in d:\\hand signnature\\hsn_env\\lib\\site-packages\\tf_models_official-2.8.0-py3.7.egg (2.8.0)\n",
      "Requirement already satisfied: Cython in d:\\hand signnature\\hsn_env\\lib\\site-packages (from tf-models-official) (0.29.28)\n",
      "Requirement already satisfied: Pillow in d:\\hand signnature\\hsn_env\\lib\\site-packages (from tf-models-official) (8.3.1)\n",
      "Requirement already satisfied: gin-config in d:\\hand signnature\\hsn_env\\lib\\site-packages (from tf-models-official) (0.1.1)\n",
      "Collecting google-api-python-client>=1.6.7\n",
      "  Using cached google_api_python_client-2.47.0-py2.py3-none-any.whl (8.4 MB)\n",
      "Collecting kaggle>=1.3.9\n",
      "  Using cached kaggle-1.5.12-py3-none-any.whl\n",
      "Requirement already satisfied: matplotlib in d:\\hand signnature\\hsn_env\\lib\\site-packages (from tf-models-official) (3.2.0)\n",
      "Requirement already satisfied: numpy>=1.15.4 in d:\\hand signnature\\hsn_env\\lib\\site-packages (from tf-models-official) (1.21.6)\n",
      "Collecting oauth2client\n",
      "  Using cached oauth2client-4.1.3-py2.py3-none-any.whl (98 kB)\n",
      "Collecting opencv-python-headless\n",
      "  Using cached opencv_python_headless-4.5.5.64-cp36-abi3-win_amd64.whl (35.3 MB)\n",
      "Requirement already satisfied: pandas>=0.22.0 in d:\\hand signnature\\hsn_env\\lib\\site-packages (from tf-models-official) (1.3.0)\n",
      "Requirement already satisfied: psutil>=5.4.3 in d:\\hand signnature\\hsn_env\\lib\\site-packages (from tf-models-official) (5.9.0)\n",
      "Collecting py-cpuinfo>=3.3.0\n",
      "  Using cached py_cpuinfo-8.0.0-py3-none-any.whl\n",
      "Requirement already satisfied: pycocotools in d:\\hand signnature\\hsn_env\\lib\\site-packages (from tf-models-official) (2.0.2)\n",
      "Requirement already satisfied: pyyaml<6.0,>=5.1 in d:\\hand signnature\\hsn_env\\lib\\site-packages (from tf-models-official) (5.4.1)\n",
      "Collecting sacrebleu\n",
      "  Using cached sacrebleu-2.0.0-py3-none-any.whl (90 kB)\n",
      "Requirement already satisfied: scipy>=0.19.1 in d:\\hand signnature\\hsn_env\\lib\\site-packages (from tf-models-official) (1.7.3)\n",
      "Collecting sentencepiece\n",
      "  Using cached sentencepiece-0.1.96-cp37-cp37m-win_amd64.whl (1.1 MB)\n",
      "Collecting seqeval\n",
      "  Using cached seqeval-1.2.2-py3-none-any.whl\n",
      "Requirement already satisfied: six in d:\\hand signnature\\hsn_env\\lib\\site-packages (from tf-models-official) (1.16.0)\n",
      "Collecting tensorflow-addons\n",
      "  Using cached tensorflow_addons-0.16.1-cp37-cp37m-win_amd64.whl (755 kB)\n",
      "Collecting tensorflow-datasets\n",
      "  Using cached tensorflow_datasets-4.5.2-py3-none-any.whl (4.2 MB)\n",
      "Collecting tensorflow-hub>=0.6.0\n",
      "  Using cached tensorflow_hub-0.12.0-py2.py3-none-any.whl (108 kB)\n",
      "Collecting tensorflow-model-optimization>=0.4.1\n",
      "  Using cached tensorflow_model_optimization-0.7.2-py2.py3-none-any.whl (237 kB)\n",
      "Collecting tensorflow-text~=2.8.0\n",
      "  Using cached tensorflow_text-2.8.2-cp37-cp37m-win_amd64.whl (2.5 MB)\n",
      "Requirement already satisfied: tensorflow~=2.8.0 in d:\\hand signnature\\hsn_env\\lib\\site-packages (from tf-models-official) (2.8.0)\n",
      "Requirement already satisfied: tf-slim>=1.1.0 in d:\\hand signnature\\hsn_env\\lib\\site-packages (from tf-models-official) (1.1.0)\n",
      "Collecting uritemplate<5,>=3.0.1\n",
      "  Using cached uritemplate-4.1.1-py2.py3-none-any.whl (10 kB)\n",
      "Collecting google-auth-httplib2>=0.1.0\n",
      "  Using cached google_auth_httplib2-0.1.0-py2.py3-none-any.whl (9.3 kB)\n",
      "Collecting httplib2<1dev,>=0.15.0\n",
      "  Using cached httplib2-0.20.4-py3-none-any.whl (96 kB)\n",
      "Requirement already satisfied: google-auth<3.0.0dev,>=1.16.0 in d:\\hand signnature\\hsn_env\\lib\\site-packages (from google-api-python-client>=1.6.7->tf-models-official) (2.6.6)\n",
      "Collecting google-api-core!=2.0.*,!=2.1.*,!=2.2.*,!=2.3.0,<3.0.0dev,>=1.31.5\n",
      "  Using cached google_api_core-2.7.3-py3-none-any.whl (114 kB)\n",
      "Collecting tqdm\n",
      "  Using cached tqdm-4.64.0-py2.py3-none-any.whl (78 kB)\n",
      "Requirement already satisfied: requests in d:\\hand signnature\\hsn_env\\lib\\site-packages (from kaggle>=1.3.9->tf-models-official) (2.27.1)\n",
      "Requirement already satisfied: python-dateutil in d:\\hand signnature\\hsn_env\\lib\\site-packages (from kaggle>=1.3.9->tf-models-official) (2.8.2)\n",
      "Requirement already satisfied: certifi in d:\\hand signnature\\hsn_env\\lib\\site-packages (from kaggle>=1.3.9->tf-models-official) (2021.10.8)\n",
      "Collecting python-slugify\n",
      "  Using cached python_slugify-6.1.2-py2.py3-none-any.whl (9.4 kB)\n",
      "Requirement already satisfied: urllib3 in d:\\hand signnature\\hsn_env\\lib\\site-packages (from kaggle>=1.3.9->tf-models-official) (1.26.9)\n",
      "Requirement already satisfied: pytz>=2017.3 in d:\\hand signnature\\hsn_env\\lib\\site-packages (from pandas>=0.22.0->tf-models-official) (2021.1)\n",
      "Requirement already satisfied: setuptools in d:\\hand signnature\\hsn_env\\lib\\site-packages (from tensorflow~=2.8.0->tf-models-official) (62.1.0)\n",
      "Requirement already satisfied: keras<2.9,>=2.8.0rc0 in d:\\hand signnature\\hsn_env\\lib\\site-packages (from tensorflow~=2.8.0->tf-models-official) (2.8.0)\n",
      "Requirement already satisfied: google-pasta>=0.1.1 in d:\\hand signnature\\hsn_env\\lib\\site-packages (from tensorflow~=2.8.0->tf-models-official) (0.2.0)\n",
      "Requirement already satisfied: keras-preprocessing>=1.1.1 in d:\\hand signnature\\hsn_env\\lib\\site-packages (from tensorflow~=2.8.0->tf-models-official) (1.1.2)\n",
      "Requirement already satisfied: tf-estimator-nightly==2.8.0.dev2021122109 in d:\\hand signnature\\hsn_env\\lib\\site-packages (from tensorflow~=2.8.0->tf-models-official) (2.8.0.dev2021122109)\n",
      "Requirement already satisfied: gast>=0.2.1 in d:\\hand signnature\\hsn_env\\lib\\site-packages (from tensorflow~=2.8.0->tf-models-official) (0.5.3)\n",
      "Requirement already satisfied: h5py>=2.9.0 in d:\\hand signnature\\hsn_env\\lib\\site-packages (from tensorflow~=2.8.0->tf-models-official) (3.6.0)\n",
      "Requirement already satisfied: protobuf>=3.9.2 in d:\\hand signnature\\hsn_env\\lib\\site-packages (from tensorflow~=2.8.0->tf-models-official) (3.20.1)\n",
      "Requirement already satisfied: typing-extensions>=3.6.6 in d:\\hand signnature\\hsn_env\\lib\\site-packages (from tensorflow~=2.8.0->tf-models-official) (4.2.0)\n",
      "Requirement already satisfied: wrapt>=1.11.0 in d:\\hand signnature\\hsn_env\\lib\\site-packages (from tensorflow~=2.8.0->tf-models-official) (1.14.1)\n",
      "Requirement already satisfied: libclang>=9.0.1 in d:\\hand signnature\\hsn_env\\lib\\site-packages (from tensorflow~=2.8.0->tf-models-official) (14.0.1)\n",
      "Requirement already satisfied: astunparse>=1.6.0 in d:\\hand signnature\\hsn_env\\lib\\site-packages (from tensorflow~=2.8.0->tf-models-official) (1.6.3)\n",
      "Requirement already satisfied: flatbuffers>=1.12 in d:\\hand signnature\\hsn_env\\lib\\site-packages (from tensorflow~=2.8.0->tf-models-official) (2.0)\n",
      "Requirement already satisfied: grpcio<2.0,>=1.24.3 in d:\\hand signnature\\hsn_env\\lib\\site-packages (from tensorflow~=2.8.0->tf-models-official) (1.46.0)\n",
      "Requirement already satisfied: absl-py>=0.4.0 in d:\\hand signnature\\hsn_env\\lib\\site-packages (from tensorflow~=2.8.0->tf-models-official) (1.0.0)\n",
      "Requirement already satisfied: opt-einsum>=2.3.2 in d:\\hand signnature\\hsn_env\\lib\\site-packages (from tensorflow~=2.8.0->tf-models-official) (3.3.0)\n",
      "Requirement already satisfied: tensorboard<2.9,>=2.8 in d:\\hand signnature\\hsn_env\\lib\\site-packages (from tensorflow~=2.8.0->tf-models-official) (2.8.0)\n",
      "Requirement already satisfied: tensorflow-io-gcs-filesystem>=0.23.1 in d:\\hand signnature\\hsn_env\\lib\\site-packages (from tensorflow~=2.8.0->tf-models-official) (0.25.0)\n",
      "Requirement already satisfied: termcolor>=1.1.0 in d:\\hand signnature\\hsn_env\\lib\\site-packages (from tensorflow~=2.8.0->tf-models-official) (1.1.0)\n",
      "Collecting dm-tree~=0.1.1\n",
      "  Using cached dm_tree-0.1.7-cp37-cp37m-win_amd64.whl (91 kB)\n",
      "Requirement already satisfied: cycler>=0.10 in d:\\hand signnature\\hsn_env\\lib\\site-packages (from matplotlib->tf-models-official) (0.11.0)\n",
      "Requirement already satisfied: pyparsing!=2.0.4,!=2.1.2,!=2.1.6,>=2.0.1 in d:\\hand signnature\\hsn_env\\lib\\site-packages (from matplotlib->tf-models-official) (3.0.8)\n",
      "Requirement already satisfied: kiwisolver>=1.0.1 in d:\\hand signnature\\hsn_env\\lib\\site-packages (from matplotlib->tf-models-official) (1.4.2)\n",
      "Requirement already satisfied: pyasn1>=0.1.7 in d:\\hand signnature\\hsn_env\\lib\\site-packages (from oauth2client->tf-models-official) (0.4.8)\n",
      "Requirement already satisfied: pyasn1-modules>=0.0.5 in d:\\hand signnature\\hsn_env\\lib\\site-packages (from oauth2client->tf-models-official) (0.2.8)\n",
      "Requirement already satisfied: rsa>=3.1.4 in d:\\hand signnature\\hsn_env\\lib\\site-packages (from oauth2client->tf-models-official) (4.8)\n",
      "Collecting portalocker\n",
      "  Using cached portalocker-2.4.0-py2.py3-none-any.whl (16 kB)\n",
      "Collecting regex\n",
      "  Using cached regex-2022.4.24-cp37-cp37m-win_amd64.whl (261 kB)\n",
      "Requirement already satisfied: colorama in d:\\hand signnature\\hsn_env\\lib\\site-packages (from sacrebleu->tf-models-official) (0.4.4)\n",
      "Collecting tabulate>=0.8.9\n",
      "  Using cached tabulate-0.8.9-py3-none-any.whl (25 kB)\n",
      "Collecting scikit-learn>=0.21.3\n",
      "  Using cached scikit_learn-1.0.2-cp37-cp37m-win_amd64.whl (7.1 MB)\n",
      "Requirement already satisfied: typeguard>=2.7 in d:\\hand signnature\\hsn_env\\lib\\site-packages (from tensorflow-addons->tf-models-official) (2.12.1)\n",
      "Collecting importlib-resources\n",
      "  Using cached importlib_resources-5.7.1-py3-none-any.whl (28 kB)\n",
      "Collecting promise\n",
      "  Using cached promise-2.3-py3-none-any.whl\n",
      "Collecting dill\n",
      "  Using cached dill-0.3.4-py2.py3-none-any.whl (86 kB)\n",
      "Collecting tensorflow-metadata\n",
      "  Using cached tensorflow_metadata-1.7.0-py3-none-any.whl (48 kB)\n",
      "Requirement already satisfied: wheel<1.0,>=0.23.0 in d:\\hand signnature\\hsn_env\\lib\\site-packages (from astunparse>=1.6.0->tensorflow~=2.8.0->tf-models-official) (0.36.2)\n",
      "Collecting googleapis-common-protos<2.0dev,>=1.52.0\n",
      "  Using cached googleapis_common_protos-1.56.0-py2.py3-none-any.whl (241 kB)\n",
      "Requirement already satisfied: cachetools<6.0,>=2.0.0 in d:\\hand signnature\\hsn_env\\lib\\site-packages (from google-auth<3.0.0dev,>=1.16.0->google-api-python-client>=1.6.7->tf-models-official) (5.0.0)\n",
      "Requirement already satisfied: cached-property in d:\\hand signnature\\hsn_env\\lib\\site-packages (from h5py>=2.9.0->tensorflow~=2.8.0->tf-models-official) (1.5.2)\n",
      "Requirement already satisfied: charset-normalizer~=2.0.0 in d:\\hand signnature\\hsn_env\\lib\\site-packages (from requests->kaggle>=1.3.9->tf-models-official) (2.0.12)\n",
      "Requirement already satisfied: idna<4,>=2.5 in d:\\hand signnature\\hsn_env\\lib\\site-packages (from requests->kaggle>=1.3.9->tf-models-official) (3.3)\n",
      "Collecting threadpoolctl>=2.0.0\n",
      "  Using cached threadpoolctl-3.1.0-py3-none-any.whl (14 kB)\n",
      "Collecting joblib>=0.11\n",
      "  Using cached joblib-1.1.0-py2.py3-none-any.whl (306 kB)\n",
      "Requirement already satisfied: tensorboard-plugin-wit>=1.6.0 in d:\\hand signnature\\hsn_env\\lib\\site-packages (from tensorboard<2.9,>=2.8->tensorflow~=2.8.0->tf-models-official) (1.8.1)\n",
      "Requirement already satisfied: google-auth-oauthlib<0.5,>=0.4.1 in d:\\hand signnature\\hsn_env\\lib\\site-packages (from tensorboard<2.9,>=2.8->tensorflow~=2.8.0->tf-models-official) (0.4.6)\n",
      "Requirement already satisfied: werkzeug>=0.11.15 in d:\\hand signnature\\hsn_env\\lib\\site-packages (from tensorboard<2.9,>=2.8->tensorflow~=2.8.0->tf-models-official) (2.1.2)\n",
      "Requirement already satisfied: markdown>=2.6.8 in d:\\hand signnature\\hsn_env\\lib\\site-packages (from tensorboard<2.9,>=2.8->tensorflow~=2.8.0->tf-models-official) (3.3.7)\n",
      "Requirement already satisfied: tensorboard-data-server<0.7.0,>=0.6.0 in d:\\hand signnature\\hsn_env\\lib\\site-packages (from tensorboard<2.9,>=2.8->tensorflow~=2.8.0->tf-models-official) (0.6.1)\n",
      "Requirement already satisfied: zipp>=3.1.0 in d:\\hand signnature\\hsn_env\\lib\\site-packages (from importlib-resources->tensorflow-datasets->tf-models-official) (3.8.0)\n",
      "Requirement already satisfied: pywin32>=226 in d:\\hand signnature\\hsn_env\\lib\\site-packages (from portalocker->sacrebleu->tf-models-official) (304)\n",
      "Collecting text-unidecode>=1.3\n",
      "  Using cached text_unidecode-1.3-py2.py3-none-any.whl (78 kB)\n",
      "Requirement already satisfied: requests-oauthlib>=0.7.0 in d:\\hand signnature\\hsn_env\\lib\\site-packages (from google-auth-oauthlib<0.5,>=0.4.1->tensorboard<2.9,>=2.8->tensorflow~=2.8.0->tf-models-official) (1.3.1)\n",
      "Requirement already satisfied: importlib-metadata>=4.4 in d:\\hand signnature\\hsn_env\\lib\\site-packages (from markdown>=2.6.8->tensorboard<2.9,>=2.8->tensorflow~=2.8.0->tf-models-official) (4.11.3)\n",
      "Requirement already satisfied: oauthlib>=3.0.0 in d:\\hand signnature\\hsn_env\\lib\\site-packages (from requests-oauthlib>=0.7.0->google-auth-oauthlib<0.5,>=0.4.1->tensorboard<2.9,>=2.8->tensorflow~=2.8.0->tf-models-official) (3.2.0)\n",
      "Installing collected packages: text-unidecode, tabulate, sentencepiece, py-cpuinfo, dm-tree, uritemplate, tqdm, threadpoolctl, tensorflow-model-optimization, tensorflow-hub, tensorflow-addons, regex, python-slugify, promise, portalocker, opencv-python-headless, joblib, importlib-resources, httplib2, googleapis-common-protos, dill, tensorflow-metadata, scikit-learn, sacrebleu, oauth2client, kaggle, tensorflow-datasets, seqeval, google-auth-httplib2, google-api-core, google-api-python-client, tensorflow-text\n",
      "Successfully installed dill-0.3.4 dm-tree-0.1.7 google-api-core-2.7.3 google-api-python-client-2.47.0 google-auth-httplib2-0.1.0 googleapis-common-protos-1.56.0 httplib2-0.20.4 importlib-resources-5.7.1 joblib-1.1.0 kaggle-1.5.12 oauth2client-4.1.3 opencv-python-headless-4.5.5.64 portalocker-2.4.0 promise-2.3 py-cpuinfo-8.0.0 python-slugify-6.1.2 regex-2022.4.24 sacrebleu-2.0.0 scikit-learn-1.0.2 sentencepiece-0.1.96 seqeval-1.2.2 tabulate-0.8.9 tensorflow-addons-0.16.1 tensorflow-datasets-4.5.2 tensorflow-hub-0.12.0 tensorflow-metadata-1.7.0 tensorflow-model-optimization-0.7.2 tensorflow-text-2.8.2 text-unidecode-1.3 threadpoolctl-3.1.0 tqdm-4.64.0 uritemplate-4.1.1\n"
     ]
    }
   ],
   "source": [
    "!pip install tf-models-official"
   ]
  },
  {
   "cell_type": "code",
   "execution_count": 21,
   "id": "a8ed5e26-1e0a-4950-8f58-102a74d8b036",
   "metadata": {
    "tags": []
   },
   "outputs": [
    {
     "name": "stdout",
     "output_type": "stream",
     "text": [
      "Collecting apache-beam==2.31.0\n",
      "  Using cached apache_beam-2.31.0-cp37-cp37m-win_amd64.whl (3.8 MB)\n",
      "Requirement already satisfied: numpy<1.21.0,>=1.14.3 in d:\\hand signnature\\hsn_env\\lib\\site-packages (from apache-beam==2.31.0) (1.20.3)\n",
      "Collecting fastavro<2,>=0.21.4\n",
      "  Using cached fastavro-1.4.11-cp37-cp37m-win_amd64.whl (402 kB)\n",
      "Requirement already satisfied: oauth2client<5,>=2.0.1 in d:\\hand signnature\\hsn_env\\lib\\site-packages (from apache-beam==2.31.0) (4.1.3)\n",
      "Collecting pyarrow<5.0.0,>=0.15.1\n",
      "  Using cached pyarrow-4.0.1-cp37-cp37m-win_amd64.whl (13.3 MB)\n",
      "Collecting pydot<2,>=1.2.0\n",
      "  Using cached pydot-1.4.2-py2.py3-none-any.whl (21 kB)\n",
      "Requirement already satisfied: python-dateutil<3,>=2.8.0 in d:\\hand signnature\\hsn_env\\lib\\site-packages (from apache-beam==2.31.0) (2.8.2)\n",
      "Requirement already satisfied: protobuf<4,>=3.12.2 in d:\\hand signnature\\hsn_env\\lib\\site-packages (from apache-beam==2.31.0) (3.20.1)\n",
      "Collecting httplib2<0.20.0,>=0.8\n",
      "  Using cached httplib2-0.19.1-py3-none-any.whl (95 kB)\n",
      "Requirement already satisfied: pymongo<4.0.0,>=3.8.0 in d:\\hand signnature\\hsn_env\\lib\\site-packages (from apache-beam==2.31.0) (3.12.3)\n",
      "Requirement already satisfied: crcmod<2.0,>=1.7 in d:\\hand signnature\\hsn_env\\lib\\site-packages (from apache-beam==2.31.0) (1.7)\n",
      "Requirement already satisfied: requests<3.0.0,>=2.24.0 in d:\\hand signnature\\hsn_env\\lib\\site-packages (from apache-beam==2.31.0) (2.27.1)\n",
      "Collecting future<1.0.0,>=0.18.2\n",
      "  Using cached future-0.18.2-py3-none-any.whl\n",
      "Requirement already satisfied: pytz>=2018.3 in d:\\hand signnature\\hsn_env\\lib\\site-packages (from apache-beam==2.31.0) (2021.1)\n",
      "Requirement already satisfied: typing-extensions<3.8.0,>=3.7.0 in d:\\hand signnature\\hsn_env\\lib\\site-packages (from apache-beam==2.31.0) (3.7.4.3)\n",
      "Collecting dill<0.3.2,>=0.3.1.1\n",
      "  Using cached dill-0.3.1.1-py3-none-any.whl\n",
      "Collecting hdfs<3.0.0,>=2.1.0\n",
      "  Using cached hdfs-2.7.0-py3-none-any.whl (34 kB)\n",
      "Requirement already satisfied: grpcio<2,>=1.29.0 in d:\\hand signnature\\hsn_env\\lib\\site-packages (from apache-beam==2.31.0) (1.46.0)\n",
      "Requirement already satisfied: avro-python3!=1.9.2,<1.10.0,>=1.8.1 in d:\\hand signnature\\hsn_env\\lib\\site-packages (from apache-beam==2.31.0) (1.9.2.1)\n",
      "Requirement already satisfied: six>=1.5.2 in d:\\hand signnature\\hsn_env\\lib\\site-packages (from grpcio<2,>=1.29.0->apache-beam==2.31.0) (1.16.0)\n",
      "Requirement already satisfied: docopt in d:\\hand signnature\\hsn_env\\lib\\site-packages (from hdfs<3.0.0,>=2.1.0->apache-beam==2.31.0) (0.6.2)\n",
      "Requirement already satisfied: pyparsing<3,>=2.4.2 in d:\\hand signnature\\hsn_env\\lib\\site-packages (from httplib2<0.20.0,>=0.8->apache-beam==2.31.0) (2.4.7)\n",
      "Requirement already satisfied: rsa>=3.1.4 in d:\\hand signnature\\hsn_env\\lib\\site-packages (from oauth2client<5,>=2.0.1->apache-beam==2.31.0) (4.8)\n",
      "Requirement already satisfied: pyasn1>=0.1.7 in d:\\hand signnature\\hsn_env\\lib\\site-packages (from oauth2client<5,>=2.0.1->apache-beam==2.31.0) (0.4.8)\n",
      "Requirement already satisfied: pyasn1-modules>=0.0.5 in d:\\hand signnature\\hsn_env\\lib\\site-packages (from oauth2client<5,>=2.0.1->apache-beam==2.31.0) (0.2.8)\n",
      "Requirement already satisfied: charset-normalizer~=2.0.0 in d:\\hand signnature\\hsn_env\\lib\\site-packages (from requests<3.0.0,>=2.24.0->apache-beam==2.31.0) (2.0.12)\n",
      "Requirement already satisfied: certifi>=2017.4.17 in d:\\hand signnature\\hsn_env\\lib\\site-packages (from requests<3.0.0,>=2.24.0->apache-beam==2.31.0) (2021.10.8)\n",
      "Requirement already satisfied: urllib3<1.27,>=1.21.1 in d:\\hand signnature\\hsn_env\\lib\\site-packages (from requests<3.0.0,>=2.24.0->apache-beam==2.31.0) (1.26.9)\n",
      "Requirement already satisfied: idna<4,>=2.5 in d:\\hand signnature\\hsn_env\\lib\\site-packages (from requests<3.0.0,>=2.24.0->apache-beam==2.31.0) (3.3)\n",
      "Installing collected packages: pydot, pyarrow, httplib2, future, fastavro, dill, hdfs, apache-beam\n",
      "  Attempting uninstall: httplib2\n",
      "    Found existing installation: httplib2 0.20.4\n",
      "    Uninstalling httplib2-0.20.4:\n",
      "      Successfully uninstalled httplib2-0.20.4\n",
      "  Attempting uninstall: dill\n",
      "    Found existing installation: dill 0.3.4\n",
      "    Uninstalling dill-0.3.4:\n",
      "      Successfully uninstalled dill-0.3.4\n",
      "Successfully installed apache-beam-2.31.0 dill-0.3.1.1 fastavro-1.4.11 future-0.18.2 hdfs-2.7.0 httplib2-0.19.1 pyarrow-4.0.1 pydot-1.4.2\n"
     ]
    }
   ],
   "source": [
    "!pip install apache-beam==2.31.0"
   ]
  },
  {
   "cell_type": "code",
   "execution_count": 18,
   "id": "5e1cbaf0-037d-4740-ab9f-63c17d0a162e",
   "metadata": {
    "tags": []
   },
   "outputs": [
    {
     "name": "stdout",
     "output_type": "stream",
     "text": [
      "Collecting avro-python3==1.9.2.1\n",
      "  Using cached avro_python3-1.9.2.1-py3-none-any.whl\n",
      "Installing collected packages: avro-python3\n",
      "Successfully installed avro-python3-1.9.2.1\n"
     ]
    },
    {
     "name": "stderr",
     "output_type": "stream",
     "text": [
      "ERROR: pip's dependency resolver does not currently take into account all the packages that are installed. This behaviour is the source of the following dependency conflicts.\n",
      "object-detection 0.1 requires apache-beam, which is not installed.\n",
      "object-detection 0.1 requires contextlib2, which is not installed.\n",
      "object-detection 0.1 requires lvis, which is not installed.\n"
     ]
    }
   ],
   "source": [
    "!pip install avro-python3==1.9.2.1"
   ]
  },
  {
   "cell_type": "code",
   "execution_count": 19,
   "id": "743a7eab-57cf-4755-a9eb-613cfeed7980",
   "metadata": {
    "tags": []
   },
   "outputs": [
    {
     "name": "stdout",
     "output_type": "stream",
     "text": [
      "Collecting contextlib2==21.6.0\n",
      "  Using cached contextlib2-21.6.0-py2.py3-none-any.whl (13 kB)\n",
      "Installing collected packages: contextlib2\n",
      "Successfully installed contextlib2-21.6.0\n"
     ]
    },
    {
     "name": "stderr",
     "output_type": "stream",
     "text": [
      "ERROR: pip's dependency resolver does not currently take into account all the packages that are installed. This behaviour is the source of the following dependency conflicts.\n",
      "object-detection 0.1 requires apache-beam, which is not installed.\n",
      "object-detection 0.1 requires lvis, which is not installed.\n"
     ]
    }
   ],
   "source": [
    "!pip install contextlib2==21.6.0"
   ]
  },
  {
   "cell_type": "code",
   "execution_count": 20,
   "id": "58d690da-c87d-4046-9657-88c60e6c02fd",
   "metadata": {
    "tags": []
   },
   "outputs": [
    {
     "name": "stdout",
     "output_type": "stream",
     "text": [
      "Collecting lvis==0.5.3\n",
      "  Using cached lvis-0.5.3-py3-none-any.whl (14 kB)\n",
      "Requirement already satisfied: python-dateutil>=2.8.0 in d:\\hand signnature\\hsn_env\\lib\\site-packages (from lvis==0.5.3) (2.8.2)\n",
      "Requirement already satisfied: matplotlib>=3.1.1 in d:\\hand signnature\\hsn_env\\lib\\site-packages (from lvis==0.5.3) (3.2.0)\n",
      "Requirement already satisfied: Cython>=0.29.12 in d:\\hand signnature\\hsn_env\\lib\\site-packages (from lvis==0.5.3) (0.29.28)\n",
      "Requirement already satisfied: pyparsing>=2.4.0 in d:\\hand signnature\\hsn_env\\lib\\site-packages (from lvis==0.5.3) (2.4.7)\n",
      "Requirement already satisfied: opencv-python>=4.1.0.25 in d:\\hand signnature\\hsn_env\\lib\\site-packages (from lvis==0.5.3) (4.5.3.56)\n",
      "Requirement already satisfied: kiwisolver>=1.1.0 in d:\\hand signnature\\hsn_env\\lib\\site-packages (from lvis==0.5.3) (1.4.2)\n",
      "Requirement already satisfied: six>=1.12.0 in d:\\hand signnature\\hsn_env\\lib\\site-packages (from lvis==0.5.3) (1.16.0)\n",
      "Requirement already satisfied: cycler>=0.10.0 in d:\\hand signnature\\hsn_env\\lib\\site-packages (from lvis==0.5.3) (0.11.0)\n",
      "Requirement already satisfied: numpy>=1.18.2 in d:\\hand signnature\\hsn_env\\lib\\site-packages (from lvis==0.5.3) (1.20.3)\n",
      "Requirement already satisfied: typing-extensions in d:\\hand signnature\\hsn_env\\lib\\site-packages (from kiwisolver>=1.1.0->lvis==0.5.3) (3.7.4.3)\n",
      "Installing collected packages: lvis\n",
      "Successfully installed lvis-0.5.3\n"
     ]
    },
    {
     "name": "stderr",
     "output_type": "stream",
     "text": [
      "ERROR: pip's dependency resolver does not currently take into account all the packages that are installed. This behaviour is the source of the following dependency conflicts.\n",
      "object-detection 0.1 requires apache-beam, which is not installed.\n"
     ]
    }
   ],
   "source": [
    "!pip install lvis==0.5.3"
   ]
  },
  {
   "cell_type": "markdown",
   "id": "2ba483ad-4dbf-4d68-87ff-51683863849f",
   "metadata": {},
   "source": [
    "# WEBCAM ACCESS CHECK FOR OPENCV"
   ]
  },
  {
   "cell_type": "markdown",
   "id": "ddfacf0a-0cb8-492d-a271-f662937d3c32",
   "metadata": {},
   "source": [
    "cv2.VideoCapture(0) generally refers to Webcam of the PC, however in case of a different OS or an external camera, an error for \"Device not found\" may appear, in that case try changing the number from 0 to any other so that it can detect the video device. In case of MacOS there can be a situation where the number might be negative, generally it is 2."
   ]
  },
  {
   "cell_type": "code",
   "execution_count": 3,
   "id": "7f220b8a-7f16-44ae-87d5-bbe09f334e0c",
   "metadata": {},
   "outputs": [],
   "source": [
    "# Script to check the availability of webcam\n",
    "import cv2\n",
    "cap =cv2.VideoCapture(0) # This connects to the webcam / camera available at the moment (depends on the number the particular device will be selected)\n",
    "while cap.isOpened():\n",
    "    ret,frame = cap.read()\n",
    "    cv2.imshow(\"Open CV Feed\",frame)\n",
    "    if cv2.waitKey(10) & 0xFF == ord(\"q\"):\n",
    "        break\n",
    "cap.release()\n",
    "cv2.destroyAllWindows()"
   ]
  },
  {
   "cell_type": "markdown",
   "id": "85f52078-976c-4218-9914-68d5a144d116",
   "metadata": {},
   "source": [
    "# LIST OF ALL THE INSTALLED PACKAGES"
   ]
  },
  {
   "cell_type": "code",
   "execution_count": 1,
   "id": "86feac15-ef36-413f-a18e-974bdaf2f9c8",
   "metadata": {},
   "outputs": [
    {
     "name": "stdout",
     "output_type": "stream",
     "text": [
      "Package                       Version             Editable project location\n",
      "----------------------------- ------------------- --------------------------------------------------\n",
      "absl-py                       1.0.0\n",
      "apache-beam                   2.31.0\n",
      "astunparse                    1.6.3\n",
      "avro-python3                  1.9.2.1\n",
      "backcall                      0.2.0\n",
      "cached-property               1.5.2\n",
      "cachetools                    5.0.0\n",
      "certifi                       2021.10.8\n",
      "charset-normalizer            2.0.12\n",
      "colorama                      0.4.4\n",
      "contextlib2                   21.6.0\n",
      "crcmod                        1.7\n",
      "cycler                        0.11.0\n",
      "Cython                        0.29.28\n",
      "debtcollector                 2.5.0\n",
      "debugpy                       1.6.0\n",
      "decorator                     5.1.1\n",
      "dill                          0.3.1.1\n",
      "dm-tree                       0.1.7\n",
      "dnspython                     2.2.1\n",
      "docopt                        0.6.2\n",
      "entrypoints                   0.4\n",
      "eventlet                      0.33.0\n",
      "fastavro                      1.4.11\n",
      "fasteners                     0.17.3\n",
      "flatbuffers                   2.0\n",
      "future                        0.18.2\n",
      "gast                          0.5.3\n",
      "gin-config                    0.1.1\n",
      "google-api-core               2.7.3\n",
      "google-api-python-client      2.47.0\n",
      "google-auth                   2.6.6\n",
      "google-auth-httplib2          0.1.0\n",
      "google-auth-oauthlib          0.4.6\n",
      "google-pasta                  0.2.0\n",
      "googleapis-common-protos      1.56.0\n",
      "greenlet                      1.1.2\n",
      "grpcio                        1.46.0\n",
      "h5py                          3.6.0\n",
      "hdfs                          2.7.0\n",
      "httplib2                      0.19.1\n",
      "idna                          3.3\n",
      "importlib-metadata            4.11.3\n",
      "importlib-resources           5.7.1\n",
      "ipykernel                     6.13.0\n",
      "ipython                       7.33.0\n",
      "iso8601                       1.0.2\n",
      "jedi                          0.18.1\n",
      "joblib                        1.1.0\n",
      "jupyter-client                7.3.1\n",
      "jupyter-core                  4.10.0\n",
      "kaggle                        1.5.12\n",
      "keras                         2.8.0\n",
      "Keras-Preprocessing           1.1.2\n",
      "kiwisolver                    1.4.2\n",
      "ldap3                         2.9.1\n",
      "libclang                      14.0.1\n",
      "libs                          0.0.10\n",
      "lvis                          0.5.3\n",
      "lxml                          4.6.3\n",
      "Markdown                      3.3.7\n",
      "matplotlib                    3.2.0\n",
      "matplotlib-inline             0.1.3\n",
      "msgpack                       1.0.3\n",
      "nest-asyncio                  1.5.5\n",
      "netaddr                       0.8.0\n",
      "netifaces                     0.11.0\n",
      "numpy                         1.20.3\n",
      "oauth2client                  4.1.3\n",
      "oauthlib                      3.2.0\n",
      "object-detection              0.1\n",
      "opencv-python                 4.5.3.56\n",
      "opt-einsum                    3.3.0\n",
      "os-win                        5.4.0\n",
      "oslo.concurrency              4.5.1\n",
      "oslo.config                   8.8.0\n",
      "oslo.context                  4.1.0\n",
      "oslo.i18n                     5.1.0\n",
      "oslo.log                      4.8.0\n",
      "oslo.serialization            4.3.0\n",
      "oslo.utils                    4.13.0\n",
      "packaging                     21.3\n",
      "pandas                        1.3.0\n",
      "parso                         0.8.3\n",
      "pbr                           5.9.0\n",
      "pickleshare                   0.7.5\n",
      "Pillow                        8.3.1\n",
      "pip                           22.0.4\n",
      "ply                           3.11\n",
      "portalocker                   2.4.0\n",
      "promise                       2.3\n",
      "prompt-toolkit                3.0.29\n",
      "protobuf                      3.20.1\n",
      "psutil                        5.9.0\n",
      "py-cpuinfo                    8.0.0\n",
      "pyarrow                       4.0.1\n",
      "pyasn1                        0.4.8\n",
      "pyasn1-modules                0.2.8\n",
      "pycocotools                   2.0.2\n",
      "pydirectory                   0.1.15\n",
      "pydot                         1.4.2\n",
      "Pygments                      2.12.0\n",
      "PyMI                          1.0.6\n",
      "pymongo                       3.12.3\n",
      "pyparsing                     2.4.7\n",
      "PyQt5                         5.15.4\n",
      "PyQt5-Qt5                     5.15.2\n",
      "PyQt5-sip                     12.10.1\n",
      "python-dateutil               2.8.2\n",
      "python-slugify                6.1.2\n",
      "pytz                          2021.1\n",
      "pywin32                       304\n",
      "PyYAML                        5.4.1\n",
      "pyzmq                         22.3.0\n",
      "regex                         2022.4.24\n",
      "requests                      2.27.1\n",
      "requests-oauthlib             1.3.1\n",
      "rfc3986                       2.0.0\n",
      "rsa                           4.8\n",
      "sacrebleu                     2.0.0\n",
      "scikit-learn                  1.0.2\n",
      "scipy                         1.7.3\n",
      "sentencepiece                 0.1.96\n",
      "seqeval                       1.2.2\n",
      "setuptools                    62.1.0\n",
      "sip                           6.6.1\n",
      "six                           1.16.0\n",
      "slim                          0.1                 d:\\hand signnature\\tensorflow\\models\\research\\slim\n",
      "stevedore                     3.5.0\n",
      "tabulate                      0.8.9\n",
      "tensorboard                   2.8.0\n",
      "tensorboard-data-server       0.6.1\n",
      "tensorboard-plugin-wit        1.8.1\n",
      "tensorflow                    2.8.0\n",
      "tensorflow-addons             0.16.1\n",
      "tensorflow-datasets           4.5.2\n",
      "tensorflow-hub                0.12.0\n",
      "tensorflow-io                 0.25.0\n",
      "tensorflow-io-gcs-filesystem  0.25.0\n",
      "tensorflow-metadata           1.7.0\n",
      "tensorflow-model-optimization 0.7.2\n",
      "tensorflow-text               2.8.2\n",
      "termcolor                     1.1.0\n",
      "text-unidecode                1.3\n",
      "tf-estimator-nightly          2.8.0.dev2021122109\n",
      "tf-models-official            2.8.0\n",
      "tf-slim                       1.1.0\n",
      "threadpoolctl                 3.1.0\n",
      "toml                          0.10.2\n",
      "tornado                       6.1\n",
      "tqdm                          4.64.0\n",
      "traitlets                     5.1.1\n",
      "typeguard                     2.12.1\n",
      "typing-extensions             3.7.4.3\n",
      "uritemplate                   4.1.1\n",
      "urllib3                       1.26.9\n",
      "uuid                          1.30\n",
      "wcwidth                       0.2.5\n",
      "Werkzeug                      2.1.2\n",
      "wget                          3.2\n",
      "wheel                         0.36.2\n",
      "WMI                           1.5.1\n",
      "wrapt                         1.14.1\n",
      "zipp                          3.8.0\n"
     ]
    }
   ],
   "source": [
    "!pip list"
   ]
  }
 ],
 "metadata": {
  "kernelspec": {
   "display_name": "HSN_env",
   "language": "python",
   "name": "hsn_env"
  },
  "language_info": {
   "codemirror_mode": {
    "name": "ipython",
    "version": 3
   },
   "file_extension": ".py",
   "mimetype": "text/x-python",
   "name": "python",
   "nbconvert_exporter": "python",
   "pygments_lexer": "ipython3",
   "version": "3.7.4"
  }
 },
 "nbformat": 4,
 "nbformat_minor": 5
}
