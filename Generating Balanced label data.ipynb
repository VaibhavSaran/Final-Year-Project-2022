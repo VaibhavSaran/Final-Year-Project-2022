{
 "cells": [
  {
   "cell_type": "markdown",
   "id": "901fd8ea-54ee-4d4e-99ed-7e371f3c3bc6",
   "metadata": {},
   "source": [
    "# 1) Importing Dependencies"
   ]
  },
  {
   "cell_type": "code",
   "execution_count": 1,
   "id": "f0ab8e25-8ec2-43ae-b14d-079ed3177c72",
   "metadata": {},
   "outputs": [],
   "source": [
    "import cv2\n",
    "import uuid\n",
    "import os\n",
    "import time"
   ]
  },
  {
   "cell_type": "markdown",
   "id": "80f8aed3-4d1e-4c6d-ae0e-1e391f331749",
   "metadata": {},
   "source": [
    "# 2) Defining Labels For Each Hand Sign"
   ]
  },
  {
   "cell_type": "code",
   "execution_count": 2,
   "id": "53170f36-ebdc-4792-8a19-54f259ff9e40",
   "metadata": {},
   "outputs": [],
   "source": [
    "# Labels is a list which contains the name of all the handsigns that will be detected by our model\n",
    "labels = [\"ok\",\"notok\",\"thankyou\",\"livelong\",\"name\",\"what\",\"you\",\"iloveyou\",\"nice\",\"love\",\"mother\",\"father\",\"IOrmy\",\n",
    "          \"favourite\",\"time\",\"see\",\"later\",\"TakeCare\"]\n",
    "number_img=20"
   ]
  },
  {
   "cell_type": "markdown",
   "id": "dbc6e992-98fb-43bb-b7e2-1fd8003781bf",
   "metadata": {},
   "source": [
    "There are 18 labels which will be detected by our model. \n",
    "for each label we will be collecting 20 different images which will result in a total of 360 images"
   ]
  },
  {
   "cell_type": "markdown",
   "id": "44214a31-34ad-4492-9ac6-97420ca795ba",
   "metadata": {},
   "source": [
    "# 3) Setup Path For Folders"
   ]
  },
  {
   "cell_type": "code",
   "execution_count": 3,
   "id": "0cc717e3-2454-448c-b546-57be3aa8c83e",
   "metadata": {},
   "outputs": [
    {
     "data": {
      "text/plain": [
       "'Tensorflow\\\\workspace\\\\images\\\\collectedimages'"
      ]
     },
     "execution_count": 3,
     "metadata": {},
     "output_type": "execute_result"
    }
   ],
   "source": [
    "# This cell will setup the path for the image data\n",
    "IMAGES_PATH = os.path.join('Tensorflow','workspace','images','collectedimages')\n",
    "IMAGES_PATH"
   ]
  },
  {
   "cell_type": "code",
   "execution_count": 4,
   "id": "5e3adf5a-d309-4a88-9e7a-f9a89f837827",
   "metadata": {},
   "outputs": [],
   "source": [
    "if not os.path.exists(IMAGES_PATH):\n",
    "    if os.name=='posix':\n",
    "        !mkdir -p{IMAGES_PATH}\n",
    "    if os.name=='nt':\n",
    "        !mkdir {IMAGES_PATH}\n",
    "for label in labels:\n",
    "    path = os.path.join(IMAGES_PATH,label)\n",
    "    if not os.path.exists(path):\n",
    "        !mkdir {path}"
   ]
  },
  {
   "cell_type": "markdown",
   "id": "5f988af0-1806-4e6f-ab8c-0e7dcd78511b",
   "metadata": {},
   "source": [
    "In the above cell the if condition is used to check what OS is the code running on for eg. if the code is being run on google colab then it will be using a linux machine so os.name will be 'posix' whereas in case of windows it will be 'nt'. After determining the whether the path exists or not and which OS it is; it creates a directory for the path specified in IMAGES_PATH and then using a loop it generates the path and directory for each label."
   ]
  },
  {
   "cell_type": "markdown",
   "id": "b085ce1e-f884-4534-b450-f41bd6b9c138",
   "metadata": {},
   "source": [
    "# 4) Capturing Images With Handsigns"
   ]
  },
  {
   "cell_type": "code",
   "execution_count": 7,
   "id": "d047c65b-aeb0-4f48-b6db-344a0f7c712d",
   "metadata": {
    "collapsed": true,
    "jupyter": {
     "outputs_hidden": true
    },
    "tags": []
   },
   "outputs": [
    {
     "name": "stdout",
     "output_type": "stream",
     "text": [
      "Collecting images for ok\n"
     ]
    },
    {
     "ename": "KeyboardInterrupt",
     "evalue": "",
     "output_type": "error",
     "traceback": [
      "\u001b[1;31m---------------------------------------------------------------------------\u001b[0m",
      "\u001b[1;31mKeyboardInterrupt\u001b[0m                         Traceback (most recent call last)",
      "\u001b[1;32m~\\AppData\\Local\\Temp\\ipykernel_17484\\173529522.py\u001b[0m in \u001b[0;36m<module>\u001b[1;34m\u001b[0m\n\u001b[0;32m      2\u001b[0m     \u001b[0mcap\u001b[0m\u001b[1;33m=\u001b[0m\u001b[0mcv2\u001b[0m\u001b[1;33m.\u001b[0m\u001b[0mVideoCapture\u001b[0m\u001b[1;33m(\u001b[0m\u001b[1;36m1\u001b[0m\u001b[1;33m)\u001b[0m\u001b[1;33m\u001b[0m\u001b[1;33m\u001b[0m\u001b[0m\n\u001b[0;32m      3\u001b[0m     \u001b[0mprint\u001b[0m\u001b[1;33m(\u001b[0m\u001b[1;34m\"Collecting images for {}\"\u001b[0m\u001b[1;33m.\u001b[0m\u001b[0mformat\u001b[0m\u001b[1;33m(\u001b[0m\u001b[0mlabel\u001b[0m\u001b[1;33m)\u001b[0m\u001b[1;33m)\u001b[0m\u001b[1;33m\u001b[0m\u001b[1;33m\u001b[0m\u001b[0m\n\u001b[1;32m----> 4\u001b[1;33m     \u001b[0mtime\u001b[0m\u001b[1;33m.\u001b[0m\u001b[0msleep\u001b[0m\u001b[1;33m(\u001b[0m\u001b[1;36m5\u001b[0m\u001b[1;33m)\u001b[0m\u001b[1;33m\u001b[0m\u001b[1;33m\u001b[0m\u001b[0m\n\u001b[0m\u001b[0;32m      5\u001b[0m     \u001b[1;32mfor\u001b[0m \u001b[0mimgnum\u001b[0m \u001b[1;32min\u001b[0m \u001b[0mrange\u001b[0m\u001b[1;33m(\u001b[0m\u001b[0mnumber_img\u001b[0m\u001b[1;33m)\u001b[0m\u001b[1;33m:\u001b[0m\u001b[1;33m\u001b[0m\u001b[1;33m\u001b[0m\u001b[0m\n\u001b[0;32m      6\u001b[0m         \u001b[0mprint\u001b[0m\u001b[1;33m(\u001b[0m\u001b[1;34m\"Collecting images for {}\"\u001b[0m\u001b[1;33m.\u001b[0m\u001b[0mformat\u001b[0m\u001b[1;33m(\u001b[0m\u001b[0mimgnum\u001b[0m\u001b[1;33m)\u001b[0m\u001b[1;33m)\u001b[0m\u001b[1;33m\u001b[0m\u001b[1;33m\u001b[0m\u001b[0m\n",
      "\u001b[1;31mKeyboardInterrupt\u001b[0m: "
     ]
    }
   ],
   "source": [
    "for label in labels:\n",
    "    cap=cv2.VideoCapture(1)\n",
    "    print(\"Collecting images for {}\".format(label))\n",
    "    time.sleep(5)\n",
    "    for imgnum in range(number_img):\n",
    "        print(\"Collecting images for {}\".format(imgnum))\n",
    "        ret,frame=cap.read()\n",
    "        imgname=os.path.join(IMAGES_PATH,label,label+'.'+'{}.jpg'.format(str(uuid.uuid1())))\n",
    "        # In the above code line the name for image is created as label name followed by a unique id for each image.\n",
    "        cv2.imwrite(imgname,frame)\n",
    "        cv2.imshow('frame',frame)\n",
    "        time.sleep(2)\n",
    "        if cv2.waitKey(1) & 0xFF == ord('q'):\n",
    "            break\n",
    "cap.release()\n",
    "cv2.destroyAllWindows()"
   ]
  },
  {
   "cell_type": "markdown",
   "id": "7c12143c-9f8c-43c9-9757-46b2d0c6e7b5",
   "metadata": {},
   "source": [
    "# 5) Labelling Images"
   ]
  },
  {
   "cell_type": "markdown",
   "id": "89ccbd3d-cdb7-4279-8298-be0a5dea5a62",
   "metadata": {},
   "source": [
    "For the purpose of labelling the images, https://github.com/tzutalin/labelImg this repository has been used."
   ]
  },
  {
   "cell_type": "code",
   "execution_count": 5,
   "id": "3490e9a4-900a-48e4-85b9-45d863d9fc0e",
   "metadata": {},
   "outputs": [
    {
     "data": {
      "text/plain": [
       "'Tensorflow\\\\labelimg'"
      ]
     },
     "execution_count": 5,
     "metadata": {},
     "output_type": "execute_result"
    }
   ],
   "source": [
    "# Creating a new directory path for labelled images\n",
    "Label_Img_Path = os.path.join('Tensorflow','labelimg')\n",
    "Label_Img_Path"
   ]
  },
  {
   "cell_type": "code",
   "execution_count": 7,
   "id": "18e7c113-f8e1-488b-8c05-d150059b80de",
   "metadata": {},
   "outputs": [
    {
     "name": "stderr",
     "output_type": "stream",
     "text": [
      "Cloning into 'Tensorflow\\labelimg'...\n"
     ]
    }
   ],
   "source": [
    "# Creating the directory for labelled images and then cloning the repository\n",
    "if not os.path.exists(Label_Img_Path):\n",
    "    !mkdir {Label_Img_Path}\n",
    "    !git clone https://github.com/tzutalin/labelImg {Label_Img_Path}"
   ]
  },
  {
   "cell_type": "markdown",
   "id": "34345359-f8b0-4002-8a76-e902dbdec5b4",
   "metadata": {},
   "source": [
    "Cloning the repository can take some time depending upon the internet connection"
   ]
  },
  {
   "cell_type": "code",
   "execution_count": 8,
   "id": "34681a93-7555-457b-8934-1ce33a963a04",
   "metadata": {},
   "outputs": [],
   "source": [
    "# Installing the labelimg package as mentioned in the readme.md of the repository\n",
    "if os.name == 'posix':\n",
    "    !cd {Label_Img_Path} && make qt5py3\n",
    "if os.name == 'nt':\n",
    "    !!cd {Label_Img_Path} && pyrcc5 -o libs/resources.py resources.qrc"
   ]
  },
  {
   "cell_type": "markdown",
   "id": "e2ef60b7-b4cf-45dd-a011-abf73874ba3c",
   "metadata": {},
   "source": [
    "Now we run the installed labelimg package and label the captured image, however some points being taken into account are:\n",
    "1) The name of labels is in camel case.\n",
    "2) The labelling is done as tight as possible."
   ]
  },
  {
   "cell_type": "code",
   "execution_count": 6,
   "id": "b01e4602-0cdf-45c3-8cf0-43a1361e5cde",
   "metadata": {
    "tags": []
   },
   "outputs": [
    {
     "name": "stdout",
     "output_type": "stream",
     "text": [
      "^C\n"
     ]
    }
   ],
   "source": [
    "!cd {Label_Img_Path} && python labelImg.py"
   ]
  },
  {
   "cell_type": "markdown",
   "id": "ec23458f-de44-4a01-a490-e934d0bb9422",
   "metadata": {},
   "source": [
    "# 6) Separating Images Into Test and Train"
   ]
  },
  {
   "cell_type": "markdown",
   "id": "a05a00e1-bfa1-4858-963f-058d082a5ef9",
   "metadata": {},
   "source": [
    "## 20 images per class(total of 360 images) with annotations will be used as training data which is 216 images and for testing there will be 144 images i.e. 8 images per class.\n",
    "## In the Model Training.ipynb, we convert the images present in the train and test into Tensorflow records, and then using these records the model will be trained.\n",
    "### Note: Tensorflow Records is a protobuf format that makes it possible for the training program to buffer, prefetch, and parallelize the reading of records. \n",
    "### So, a good first step for machine learning is to convert industry-specific binary format files into TensorFlow records."
   ]
  }
 ],
 "metadata": {
  "kernelspec": {
   "display_name": "HSN_env",
   "language": "python",
   "name": "hsn_env"
  },
  "language_info": {
   "codemirror_mode": {
    "name": "ipython",
    "version": 3
   },
   "file_extension": ".py",
   "mimetype": "text/x-python",
   "name": "python",
   "nbconvert_exporter": "python",
   "pygments_lexer": "ipython3",
   "version": "3.7.4"
  }
 },
 "nbformat": 4,
 "nbformat_minor": 5
}
